{
 "cells": [
  {
   "cell_type": "markdown",
   "metadata": {},
   "source": [
    "# Exploratory Data Analysis"
   ]
  },
  {
   "cell_type": "markdown",
   "metadata": {},
   "source": [
    "## Project Description\n",
    "\n",
    "In this project, I will be doing research on Car Sale ads posted on **Crankshaft List**. Hundreds of free advertisements for vehicles are published on Crankshaft List website every day. I will be studying data collected over the last few years and determine which factors influence the price of a vehicle. "
   ]
  },
  {
   "cell_type": "markdown",
   "metadata": {},
   "source": [
    "I will be performing the following task to in order to accomplish my goal in this project:\n",
    "> Loading the dataset and studying general information.\n",
    "> Data Preprocessing\n",
    "- Identify and study missing values\n",
    "- Filling in missing values when possible\n",
    "- Converting data to the required datatypes\n",
    "> Performing Calculation, replacing values in some columns and adding new columns to the table\n",
    "- calculating and adding new columns: Day of week, month and year the ad was placed\n",
    "- calculating  vehicle's age in years when the ad was placed and adding it to column\n",
    "- calculating vehicles average mileage per year and adding it to table\n",
    "- Replacing string values with a numeric scale in **condition** column.\n",
    "> Carrying out exploratory data analysis\n",
    "- plotting histogram for price, vehicle's age when the ad was placed, mileage, number if cylinders and condition and study the outlier and its affect in form and readability of histogram.\n",
    "- Determining the upper limits of outliers, remove the outliers and store them in a separate DataFrame\n",
    "- Using the filtered data to plot new histograms. Comparing them with the earlier histograms (the ones that included outliers). Drawing conclusions for each histogram.\n",
    "- Studying how many days advertisements were displayed (days_listed). Ploting a histogram. Calculating the mean and median. Describing the typical lifetime of an ad. Determining when ads were removed quickly, and when they were listed for an abnormally long time.\n",
    "- Analyzing the number of ads and the average price for each type of vehicle. Plot a graph showing the dependence of the number of ads on the vehicle type. Select the two types with the greatest number of ads.\n",
    "- Determining the factors that impact the price most. Studying whether the price depends on age, mileage, condition, transmission type, and color. For categorical variables (transmission type and color), plotting box-and-whisker charts, and create scatterplots for the rest. When analyzing categorical variables, note that the categories must have at least 50 ads; otherwise, their parameters won't be valid for analysis.\n",
    "> Drawing conclusion on each analysis\n",
    "\n"
   ]
  },
  {
   "cell_type": "markdown",
   "metadata": {},
   "source": [
    "# Step 1. Open the data file and study the general information. "
   ]
  },
  {
   "cell_type": "markdown",
   "metadata": {},
   "source": [
    "#### Importing necessary python libraries"
   ]
  },
  {
   "cell_type": "code",
   "execution_count": 107,
   "metadata": {},
   "outputs": [],
   "source": [
    "import pandas as pd\n",
    "import numpy as np\n",
    "import random\n",
    "%matplotlib inline\n",
    "import seaborn as sns\n",
    "import matplotlib.pyplot as plt\n",
    "\n"
   ]
  },
  {
   "cell_type": "markdown",
   "metadata": {},
   "source": [
    "#### Reading CSV file containing our dataset"
   ]
  },
  {
   "cell_type": "code",
   "execution_count": 108,
   "metadata": {},
   "outputs": [],
   "source": [
    "try:\n",
    "    df = pd.read_csv(\"/Users/rsavy/Downloads/vehicles_us.csv\")\n",
    "    \n",
    "except:\n",
    "    df = pd.read_csv(\"/datasets/vehicles_us.csv\") "
   ]
  },
  {
   "cell_type": "markdown",
   "metadata": {},
   "source": [
    "#### Printing first five rows of dataset to get general ideas on how data looks like"
   ]
  },
  {
   "cell_type": "code",
   "execution_count": 157,
   "metadata": {
    "scrolled": false
   },
   "outputs": [
    {
     "data": {
      "text/html": [
       "<div>\n",
       "<style scoped>\n",
       "    .dataframe tbody tr th:only-of-type {\n",
       "        vertical-align: middle;\n",
       "    }\n",
       "\n",
       "    .dataframe tbody tr th {\n",
       "        vertical-align: top;\n",
       "    }\n",
       "\n",
       "    .dataframe thead th {\n",
       "        text-align: right;\n",
       "    }\n",
       "</style>\n",
       "<table border=\"1\" class=\"dataframe\">\n",
       "  <thead>\n",
       "    <tr style=\"text-align: right;\">\n",
       "      <th></th>\n",
       "      <th>price</th>\n",
       "      <th>model_year</th>\n",
       "      <th>model</th>\n",
       "      <th>condition</th>\n",
       "      <th>cylinders</th>\n",
       "      <th>fuel</th>\n",
       "      <th>odometer</th>\n",
       "      <th>transmission</th>\n",
       "      <th>type</th>\n",
       "      <th>paint_color</th>\n",
       "      <th>is_4wd</th>\n",
       "      <th>date_posted</th>\n",
       "      <th>days_listed</th>\n",
       "    </tr>\n",
       "  </thead>\n",
       "  <tbody>\n",
       "    <tr>\n",
       "      <th>0</th>\n",
       "      <td>9400</td>\n",
       "      <td>2011.0</td>\n",
       "      <td>bmw x5</td>\n",
       "      <td>good</td>\n",
       "      <td>6.0</td>\n",
       "      <td>gas</td>\n",
       "      <td>145000.0</td>\n",
       "      <td>automatic</td>\n",
       "      <td>SUV</td>\n",
       "      <td>white</td>\n",
       "      <td>1.0</td>\n",
       "      <td>2018-06-23</td>\n",
       "      <td>19</td>\n",
       "    </tr>\n",
       "    <tr>\n",
       "      <th>1</th>\n",
       "      <td>25500</td>\n",
       "      <td>NaN</td>\n",
       "      <td>ford f-150</td>\n",
       "      <td>good</td>\n",
       "      <td>6.0</td>\n",
       "      <td>gas</td>\n",
       "      <td>88705.0</td>\n",
       "      <td>automatic</td>\n",
       "      <td>pickup</td>\n",
       "      <td>white</td>\n",
       "      <td>1.0</td>\n",
       "      <td>2018-10-19</td>\n",
       "      <td>50</td>\n",
       "    </tr>\n",
       "    <tr>\n",
       "      <th>2</th>\n",
       "      <td>5500</td>\n",
       "      <td>2013.0</td>\n",
       "      <td>hyundai sonata</td>\n",
       "      <td>like new</td>\n",
       "      <td>4.0</td>\n",
       "      <td>gas</td>\n",
       "      <td>110000.0</td>\n",
       "      <td>automatic</td>\n",
       "      <td>sedan</td>\n",
       "      <td>red</td>\n",
       "      <td>0.0</td>\n",
       "      <td>2019-02-07</td>\n",
       "      <td>79</td>\n",
       "    </tr>\n",
       "    <tr>\n",
       "      <th>3</th>\n",
       "      <td>1500</td>\n",
       "      <td>2003.0</td>\n",
       "      <td>ford f-150</td>\n",
       "      <td>fair</td>\n",
       "      <td>8.0</td>\n",
       "      <td>gas</td>\n",
       "      <td>NaN</td>\n",
       "      <td>automatic</td>\n",
       "      <td>pickup</td>\n",
       "      <td>white</td>\n",
       "      <td>0.0</td>\n",
       "      <td>2019-03-22</td>\n",
       "      <td>9</td>\n",
       "    </tr>\n",
       "    <tr>\n",
       "      <th>4</th>\n",
       "      <td>14900</td>\n",
       "      <td>2017.0</td>\n",
       "      <td>chrysler 200</td>\n",
       "      <td>excellent</td>\n",
       "      <td>4.0</td>\n",
       "      <td>gas</td>\n",
       "      <td>80903.0</td>\n",
       "      <td>automatic</td>\n",
       "      <td>sedan</td>\n",
       "      <td>black</td>\n",
       "      <td>0.0</td>\n",
       "      <td>2019-04-02</td>\n",
       "      <td>28</td>\n",
       "    </tr>\n",
       "  </tbody>\n",
       "</table>\n",
       "</div>"
      ],
      "text/plain": [
       "   price  model_year           model  condition  cylinders fuel  odometer  \\\n",
       "0   9400      2011.0          bmw x5       good        6.0  gas  145000.0   \n",
       "1  25500         NaN      ford f-150       good        6.0  gas   88705.0   \n",
       "2   5500      2013.0  hyundai sonata   like new        4.0  gas  110000.0   \n",
       "3   1500      2003.0      ford f-150       fair        8.0  gas       NaN   \n",
       "4  14900      2017.0    chrysler 200  excellent        4.0  gas   80903.0   \n",
       "\n",
       "  transmission    type paint_color  is_4wd date_posted  days_listed  \n",
       "0    automatic     SUV       white     1.0  2018-06-23           19  \n",
       "1    automatic  pickup       white     1.0  2018-10-19           50  \n",
       "2    automatic   sedan         red     0.0  2019-02-07           79  \n",
       "3    automatic  pickup       white     0.0  2019-03-22            9  \n",
       "4    automatic   sedan       black     0.0  2019-04-02           28  "
      ]
     },
     "execution_count": 157,
     "metadata": {},
     "output_type": "execute_result"
    }
   ],
   "source": [
    "df.head()"
   ]
  },
  {
   "cell_type": "markdown",
   "metadata": {},
   "source": [
    "#### Observing the datatypes and total entries in each columns"
   ]
  },
  {
   "cell_type": "code",
   "execution_count": 158,
   "metadata": {},
   "outputs": [
    {
     "name": "stdout",
     "output_type": "stream",
     "text": [
      "<class 'pandas.core.frame.DataFrame'>\n",
      "RangeIndex: 51525 entries, 0 to 51524\n",
      "Data columns (total 13 columns):\n",
      " #   Column        Non-Null Count  Dtype  \n",
      "---  ------        --------------  -----  \n",
      " 0   price         51525 non-null  int64  \n",
      " 1   model_year    47906 non-null  float64\n",
      " 2   model         51525 non-null  object \n",
      " 3   condition     51525 non-null  object \n",
      " 4   cylinders     46265 non-null  float64\n",
      " 5   fuel          51525 non-null  object \n",
      " 6   odometer      43633 non-null  float64\n",
      " 7   transmission  51525 non-null  object \n",
      " 8   type          51525 non-null  object \n",
      " 9   paint_color   51525 non-null  object \n",
      " 10  is_4wd        51525 non-null  float64\n",
      " 11  date_posted   51525 non-null  object \n",
      " 12  days_listed   51525 non-null  int64  \n",
      "dtypes: float64(4), int64(2), object(7)\n",
      "memory usage: 5.1+ MB\n"
     ]
    }
   ],
   "source": [
    "df.info()"
   ]
  },
  {
   "cell_type": "markdown",
   "metadata": {},
   "source": [
    "#### Observing count and percentage of  missing values in each columns"
   ]
  },
  {
   "cell_type": "code",
   "execution_count": 160,
   "metadata": {},
   "outputs": [
    {
     "name": "stdout",
     "output_type": "stream",
     "text": [
      "Following are the count of Missing values in each columns of dataset: price              0\n",
      "model_year      3619\n",
      "model              0\n",
      "condition          0\n",
      "cylinders       5260\n",
      "fuel               0\n",
      "odometer        7892\n",
      "transmission       0\n",
      "type               0\n",
      "paint_color        0\n",
      "is_4wd             0\n",
      "date_posted        0\n",
      "days_listed        0\n",
      "dtype: int64\n",
      "\n",
      "Following are the percent of Missing values in each columns of dataset: price            0.000000\n",
      "model_year       7.023775\n",
      "model            0.000000\n",
      "condition        0.000000\n",
      "cylinders       10.208637\n",
      "fuel             0.000000\n",
      "odometer        15.316836\n",
      "transmission     0.000000\n",
      "type             0.000000\n",
      "paint_color      0.000000\n",
      "is_4wd           0.000000\n",
      "date_posted      0.000000\n",
      "days_listed      0.000000\n",
      "dtype: float64\n"
     ]
    }
   ],
   "source": [
    "count = df.isnull().sum()\n",
    "percent = (count / df.shape[0]) * 100\n",
    "print('Following are the count of Missing values in each columns of dataset:',count)\n",
    "print()\n",
    "print('Following are the percent of Missing values in each columns of dataset:',percent)"
   ]
  },
  {
   "cell_type": "markdown",
   "metadata": {},
   "source": [
    "#### Statistical Summary"
   ]
  },
  {
   "cell_type": "code",
   "execution_count": 161,
   "metadata": {},
   "outputs": [
    {
     "name": "stdout",
     "output_type": "stream",
     "text": [
      "Following are the general Statistical Summary of the dataset:\n"
     ]
    },
    {
     "data": {
      "text/html": [
       "<div>\n",
       "<style scoped>\n",
       "    .dataframe tbody tr th:only-of-type {\n",
       "        vertical-align: middle;\n",
       "    }\n",
       "\n",
       "    .dataframe tbody tr th {\n",
       "        vertical-align: top;\n",
       "    }\n",
       "\n",
       "    .dataframe thead th {\n",
       "        text-align: right;\n",
       "    }\n",
       "</style>\n",
       "<table border=\"1\" class=\"dataframe\">\n",
       "  <thead>\n",
       "    <tr style=\"text-align: right;\">\n",
       "      <th></th>\n",
       "      <th>price</th>\n",
       "      <th>model_year</th>\n",
       "      <th>cylinders</th>\n",
       "      <th>odometer</th>\n",
       "      <th>is_4wd</th>\n",
       "      <th>days_listed</th>\n",
       "    </tr>\n",
       "  </thead>\n",
       "  <tbody>\n",
       "    <tr>\n",
       "      <th>count</th>\n",
       "      <td>51525.000000</td>\n",
       "      <td>47906.000000</td>\n",
       "      <td>46265.000000</td>\n",
       "      <td>43633.000000</td>\n",
       "      <td>51525.000000</td>\n",
       "      <td>51525.00000</td>\n",
       "    </tr>\n",
       "    <tr>\n",
       "      <th>mean</th>\n",
       "      <td>12132.464920</td>\n",
       "      <td>2009.750470</td>\n",
       "      <td>6.125235</td>\n",
       "      <td>115553.461738</td>\n",
       "      <td>0.496303</td>\n",
       "      <td>39.55476</td>\n",
       "    </tr>\n",
       "    <tr>\n",
       "      <th>std</th>\n",
       "      <td>10040.803015</td>\n",
       "      <td>6.282065</td>\n",
       "      <td>1.660360</td>\n",
       "      <td>65094.611341</td>\n",
       "      <td>0.499991</td>\n",
       "      <td>28.20427</td>\n",
       "    </tr>\n",
       "    <tr>\n",
       "      <th>min</th>\n",
       "      <td>1.000000</td>\n",
       "      <td>1908.000000</td>\n",
       "      <td>3.000000</td>\n",
       "      <td>0.000000</td>\n",
       "      <td>0.000000</td>\n",
       "      <td>0.00000</td>\n",
       "    </tr>\n",
       "    <tr>\n",
       "      <th>25%</th>\n",
       "      <td>5000.000000</td>\n",
       "      <td>2006.000000</td>\n",
       "      <td>4.000000</td>\n",
       "      <td>70000.000000</td>\n",
       "      <td>0.000000</td>\n",
       "      <td>19.00000</td>\n",
       "    </tr>\n",
       "    <tr>\n",
       "      <th>50%</th>\n",
       "      <td>9000.000000</td>\n",
       "      <td>2011.000000</td>\n",
       "      <td>6.000000</td>\n",
       "      <td>113000.000000</td>\n",
       "      <td>0.000000</td>\n",
       "      <td>33.00000</td>\n",
       "    </tr>\n",
       "    <tr>\n",
       "      <th>75%</th>\n",
       "      <td>16839.000000</td>\n",
       "      <td>2014.000000</td>\n",
       "      <td>8.000000</td>\n",
       "      <td>155000.000000</td>\n",
       "      <td>1.000000</td>\n",
       "      <td>53.00000</td>\n",
       "    </tr>\n",
       "    <tr>\n",
       "      <th>max</th>\n",
       "      <td>375000.000000</td>\n",
       "      <td>2019.000000</td>\n",
       "      <td>12.000000</td>\n",
       "      <td>990000.000000</td>\n",
       "      <td>1.000000</td>\n",
       "      <td>271.00000</td>\n",
       "    </tr>\n",
       "  </tbody>\n",
       "</table>\n",
       "</div>"
      ],
      "text/plain": [
       "               price    model_year     cylinders       odometer        is_4wd  \\\n",
       "count   51525.000000  47906.000000  46265.000000   43633.000000  51525.000000   \n",
       "mean    12132.464920   2009.750470      6.125235  115553.461738      0.496303   \n",
       "std     10040.803015      6.282065      1.660360   65094.611341      0.499991   \n",
       "min         1.000000   1908.000000      3.000000       0.000000      0.000000   \n",
       "25%      5000.000000   2006.000000      4.000000   70000.000000      0.000000   \n",
       "50%      9000.000000   2011.000000      6.000000  113000.000000      0.000000   \n",
       "75%     16839.000000   2014.000000      8.000000  155000.000000      1.000000   \n",
       "max    375000.000000   2019.000000     12.000000  990000.000000      1.000000   \n",
       "\n",
       "       days_listed  \n",
       "count  51525.00000  \n",
       "mean      39.55476  \n",
       "std       28.20427  \n",
       "min        0.00000  \n",
       "25%       19.00000  \n",
       "50%       33.00000  \n",
       "75%       53.00000  \n",
       "max      271.00000  "
      ]
     },
     "execution_count": 161,
     "metadata": {},
     "output_type": "execute_result"
    }
   ],
   "source": [
    "print('Following are the general Statistical Summary of the dataset:')\n",
    "df.describe()"
   ]
  },
  {
   "cell_type": "code",
   "execution_count": 162,
   "metadata": {},
   "outputs": [
    {
     "name": "stdout",
     "output_type": "stream",
     "text": [
      "There are 0 duplicate values in dataset\n"
     ]
    }
   ],
   "source": [
    "print('There are',df.duplicated().sum(), 'duplicate values in dataset')"
   ]
  },
  {
   "cell_type": "markdown",
   "metadata": {},
   "source": [
    "### Conclusion"
   ]
  },
  {
   "cell_type": "markdown",
   "metadata": {},
   "source": [
    "1. We will be dealing with various datatypes in this dataset. We will need to change some datatypes into appropriate format such as **model_year** and **date_posted** into datetime from float and object datatypes respectively.\n",
    "\n",
    "2. We have missing values in the follwing columns and we will be filling in missing values where it is possible to do so:\n",
    "    - **model_year**\n",
    "    - **odometer**\n",
    "    - **is_4wd**\n",
    "    - **paint_color**\n",
    "    - **cylinders**\n",
    "3. We observed the general statistical summary of the dataset.\n",
    "4. We do not have any duplicates in the dataset."
   ]
  },
  {
   "cell_type": "markdown",
   "metadata": {},
   "source": [
    "# Step 2. Data preprocessing"
   ]
  },
  {
   "cell_type": "markdown",
   "metadata": {},
   "source": [
    "#### Handling Missing Values"
   ]
  },
  {
   "cell_type": "markdown",
   "metadata": {},
   "source": [
    "Lets have a quick look on missing values columns again."
   ]
  },
  {
   "cell_type": "code",
   "execution_count": 163,
   "metadata": {},
   "outputs": [
    {
     "data": {
      "text/plain": [
       "price              0\n",
       "model_year      3619\n",
       "model              0\n",
       "condition          0\n",
       "cylinders       5260\n",
       "fuel               0\n",
       "odometer        7892\n",
       "transmission       0\n",
       "type               0\n",
       "paint_color        0\n",
       "is_4wd             0\n",
       "date_posted        0\n",
       "days_listed        0\n",
       "dtype: int64"
      ]
     },
     "execution_count": 163,
     "metadata": {},
     "output_type": "execute_result"
    }
   ],
   "source": [
    "df.isnull().sum()"
   ]
  },
  {
   "cell_type": "markdown",
   "metadata": {},
   "source": [
    "Firstly, I am filling up missing values in **is_4wd** column as we know that the column is supposed to be boolean (which I will be changing the datatype later), there are 2 possible values **0** or **1** where 0= false for 4wd and 1=True for 4wd."
   ]
  },
  {
   "cell_type": "code",
   "execution_count": 164,
   "metadata": {},
   "outputs": [],
   "source": [
    "df['is_4wd'] = df['is_4wd'].fillna(value=0)"
   ]
  },
  {
   "cell_type": "code",
   "execution_count": 165,
   "metadata": {
    "scrolled": false
   },
   "outputs": [
    {
     "data": {
      "text/html": [
       "<div>\n",
       "<style scoped>\n",
       "    .dataframe tbody tr th:only-of-type {\n",
       "        vertical-align: middle;\n",
       "    }\n",
       "\n",
       "    .dataframe tbody tr th {\n",
       "        vertical-align: top;\n",
       "    }\n",
       "\n",
       "    .dataframe thead th {\n",
       "        text-align: right;\n",
       "    }\n",
       "</style>\n",
       "<table border=\"1\" class=\"dataframe\">\n",
       "  <thead>\n",
       "    <tr style=\"text-align: right;\">\n",
       "      <th></th>\n",
       "      <th>price</th>\n",
       "      <th>model_year</th>\n",
       "      <th>model</th>\n",
       "      <th>condition</th>\n",
       "      <th>cylinders</th>\n",
       "      <th>fuel</th>\n",
       "      <th>odometer</th>\n",
       "      <th>transmission</th>\n",
       "      <th>type</th>\n",
       "      <th>paint_color</th>\n",
       "      <th>is_4wd</th>\n",
       "      <th>date_posted</th>\n",
       "      <th>days_listed</th>\n",
       "    </tr>\n",
       "  </thead>\n",
       "  <tbody>\n",
       "    <tr>\n",
       "      <th>0</th>\n",
       "      <td>9400</td>\n",
       "      <td>2011.0</td>\n",
       "      <td>bmw x5</td>\n",
       "      <td>good</td>\n",
       "      <td>6.0</td>\n",
       "      <td>gas</td>\n",
       "      <td>145000.0</td>\n",
       "      <td>automatic</td>\n",
       "      <td>SUV</td>\n",
       "      <td>white</td>\n",
       "      <td>1.0</td>\n",
       "      <td>2018-06-23</td>\n",
       "      <td>19</td>\n",
       "    </tr>\n",
       "    <tr>\n",
       "      <th>1</th>\n",
       "      <td>25500</td>\n",
       "      <td>NaN</td>\n",
       "      <td>ford f-150</td>\n",
       "      <td>good</td>\n",
       "      <td>6.0</td>\n",
       "      <td>gas</td>\n",
       "      <td>88705.0</td>\n",
       "      <td>automatic</td>\n",
       "      <td>pickup</td>\n",
       "      <td>white</td>\n",
       "      <td>1.0</td>\n",
       "      <td>2018-10-19</td>\n",
       "      <td>50</td>\n",
       "    </tr>\n",
       "    <tr>\n",
       "      <th>2</th>\n",
       "      <td>5500</td>\n",
       "      <td>2013.0</td>\n",
       "      <td>hyundai sonata</td>\n",
       "      <td>like new</td>\n",
       "      <td>4.0</td>\n",
       "      <td>gas</td>\n",
       "      <td>110000.0</td>\n",
       "      <td>automatic</td>\n",
       "      <td>sedan</td>\n",
       "      <td>red</td>\n",
       "      <td>0.0</td>\n",
       "      <td>2019-02-07</td>\n",
       "      <td>79</td>\n",
       "    </tr>\n",
       "    <tr>\n",
       "      <th>3</th>\n",
       "      <td>1500</td>\n",
       "      <td>2003.0</td>\n",
       "      <td>ford f-150</td>\n",
       "      <td>fair</td>\n",
       "      <td>8.0</td>\n",
       "      <td>gas</td>\n",
       "      <td>NaN</td>\n",
       "      <td>automatic</td>\n",
       "      <td>pickup</td>\n",
       "      <td>white</td>\n",
       "      <td>0.0</td>\n",
       "      <td>2019-03-22</td>\n",
       "      <td>9</td>\n",
       "    </tr>\n",
       "    <tr>\n",
       "      <th>4</th>\n",
       "      <td>14900</td>\n",
       "      <td>2017.0</td>\n",
       "      <td>chrysler 200</td>\n",
       "      <td>excellent</td>\n",
       "      <td>4.0</td>\n",
       "      <td>gas</td>\n",
       "      <td>80903.0</td>\n",
       "      <td>automatic</td>\n",
       "      <td>sedan</td>\n",
       "      <td>black</td>\n",
       "      <td>0.0</td>\n",
       "      <td>2019-04-02</td>\n",
       "      <td>28</td>\n",
       "    </tr>\n",
       "  </tbody>\n",
       "</table>\n",
       "</div>"
      ],
      "text/plain": [
       "   price  model_year           model  condition  cylinders fuel  odometer  \\\n",
       "0   9400      2011.0          bmw x5       good        6.0  gas  145000.0   \n",
       "1  25500         NaN      ford f-150       good        6.0  gas   88705.0   \n",
       "2   5500      2013.0  hyundai sonata   like new        4.0  gas  110000.0   \n",
       "3   1500      2003.0      ford f-150       fair        8.0  gas       NaN   \n",
       "4  14900      2017.0    chrysler 200  excellent        4.0  gas   80903.0   \n",
       "\n",
       "  transmission    type paint_color  is_4wd date_posted  days_listed  \n",
       "0    automatic     SUV       white     1.0  2018-06-23           19  \n",
       "1    automatic  pickup       white     1.0  2018-10-19           50  \n",
       "2    automatic   sedan         red     0.0  2019-02-07           79  \n",
       "3    automatic  pickup       white     0.0  2019-03-22            9  \n",
       "4    automatic   sedan       black     0.0  2019-04-02           28  "
      ]
     },
     "execution_count": 165,
     "metadata": {},
     "output_type": "execute_result"
    }
   ],
   "source": [
    "df.head(5)"
   ]
  },
  {
   "cell_type": "markdown",
   "metadata": {},
   "source": [
    "Now when we compare this dataframe with previous dataframe we can see **NaN** values in **is_4wd** are replaced with 0 (which means False in a real scenerio)."
   ]
  },
  {
   "cell_type": "markdown",
   "metadata": {},
   "source": [
    "I want to fill in **paint_color** of the dataset with random color generated from among the colors we have in **paint_color** dataset. As paint color is not very important factor in this analysis, filling in random values wont make much affect in our final analysis and also we can get rid of missing values."
   ]
  },
  {
   "cell_type": "code",
   "execution_count": 166,
   "metadata": {},
   "outputs": [],
   "source": [
    "def fill_color(df):\n",
    "    unique_color = df['paint_color'].unique()\n",
    "    unique_color = list(filter(lambda x: x==x, unique_color))\n",
    "    df['paint_color'].fillna(random.choice(unique_color), inplace=True)\n",
    "fill_color(df)"
   ]
  },
  {
   "cell_type": "markdown",
   "metadata": {},
   "source": [
    "Now, I am filling in missing values in **cylinders** with mode value which is most repeated values. As cars have specific number of cylinders it would be better to use Mode or most frequent value intead of median or mean. For that I will first group the cars by models and use most frequent cylinder in each model."
   ]
  },
  {
   "cell_type": "code",
   "execution_count": 246,
   "metadata": {},
   "outputs": [],
   "source": [
    "def fill_cylinder(df):\n",
    "    for name, group in df.groupby(by=['type'])['cylinders']:\n",
    "        groupMode = group.dropna().mode().values[0]\n",
    "        df.loc[(df['type'] == name) & (df['cylinders'] != df['cylinders']), 'cylinders'] = groupMode\n",
    "    df['cylinders'] = df['cylinders'].astype(int)\n",
    "fill_cylinder(df)"
   ]
  },
  {
   "cell_type": "markdown",
   "metadata": {},
   "source": [
    "**Data Slice to remove rows with NaN value in model_year**"
   ]
  },
  {
   "cell_type": "markdown",
   "metadata": {},
   "source": [
    "I have decided to delete the rows where **model_year** has missing values. As **model_year** has **3619** missing values that is 7% of whole data. If there are less than 10% of missing values, assuming that it is safe to delete those values, I am dropping those using data slicing method."
   ]
  },
  {
   "cell_type": "code",
   "execution_count": 247,
   "metadata": {},
   "outputs": [],
   "source": [
    "data = df.query('model_year != \"NaN\"').reset_index()"
   ]
  },
  {
   "cell_type": "code",
   "execution_count": 248,
   "metadata": {
    "scrolled": true
   },
   "outputs": [
    {
     "data": {
      "text/html": [
       "<div>\n",
       "<style scoped>\n",
       "    .dataframe tbody tr th:only-of-type {\n",
       "        vertical-align: middle;\n",
       "    }\n",
       "\n",
       "    .dataframe tbody tr th {\n",
       "        vertical-align: top;\n",
       "    }\n",
       "\n",
       "    .dataframe thead th {\n",
       "        text-align: right;\n",
       "    }\n",
       "</style>\n",
       "<table border=\"1\" class=\"dataframe\">\n",
       "  <thead>\n",
       "    <tr style=\"text-align: right;\">\n",
       "      <th></th>\n",
       "      <th>index</th>\n",
       "      <th>price</th>\n",
       "      <th>model_year</th>\n",
       "      <th>model</th>\n",
       "      <th>condition</th>\n",
       "      <th>cylinders</th>\n",
       "      <th>fuel</th>\n",
       "      <th>odometer</th>\n",
       "      <th>transmission</th>\n",
       "      <th>type</th>\n",
       "      <th>paint_color</th>\n",
       "      <th>is_4wd</th>\n",
       "      <th>date_posted</th>\n",
       "      <th>days_listed</th>\n",
       "    </tr>\n",
       "  </thead>\n",
       "  <tbody>\n",
       "    <tr>\n",
       "      <th>0</th>\n",
       "      <td>0</td>\n",
       "      <td>9400</td>\n",
       "      <td>2011.0</td>\n",
       "      <td>bmw x5</td>\n",
       "      <td>good</td>\n",
       "      <td>6</td>\n",
       "      <td>gas</td>\n",
       "      <td>145000.0</td>\n",
       "      <td>automatic</td>\n",
       "      <td>SUV</td>\n",
       "      <td>white</td>\n",
       "      <td>1.0</td>\n",
       "      <td>2018-06-23</td>\n",
       "      <td>19</td>\n",
       "    </tr>\n",
       "    <tr>\n",
       "      <th>1</th>\n",
       "      <td>2</td>\n",
       "      <td>5500</td>\n",
       "      <td>2013.0</td>\n",
       "      <td>hyundai sonata</td>\n",
       "      <td>like new</td>\n",
       "      <td>4</td>\n",
       "      <td>gas</td>\n",
       "      <td>110000.0</td>\n",
       "      <td>automatic</td>\n",
       "      <td>sedan</td>\n",
       "      <td>red</td>\n",
       "      <td>0.0</td>\n",
       "      <td>2019-02-07</td>\n",
       "      <td>79</td>\n",
       "    </tr>\n",
       "    <tr>\n",
       "      <th>2</th>\n",
       "      <td>3</td>\n",
       "      <td>1500</td>\n",
       "      <td>2003.0</td>\n",
       "      <td>ford f-150</td>\n",
       "      <td>fair</td>\n",
       "      <td>8</td>\n",
       "      <td>gas</td>\n",
       "      <td>NaN</td>\n",
       "      <td>automatic</td>\n",
       "      <td>pickup</td>\n",
       "      <td>white</td>\n",
       "      <td>0.0</td>\n",
       "      <td>2019-03-22</td>\n",
       "      <td>9</td>\n",
       "    </tr>\n",
       "    <tr>\n",
       "      <th>3</th>\n",
       "      <td>4</td>\n",
       "      <td>14900</td>\n",
       "      <td>2017.0</td>\n",
       "      <td>chrysler 200</td>\n",
       "      <td>excellent</td>\n",
       "      <td>4</td>\n",
       "      <td>gas</td>\n",
       "      <td>80903.0</td>\n",
       "      <td>automatic</td>\n",
       "      <td>sedan</td>\n",
       "      <td>black</td>\n",
       "      <td>0.0</td>\n",
       "      <td>2019-04-02</td>\n",
       "      <td>28</td>\n",
       "    </tr>\n",
       "    <tr>\n",
       "      <th>4</th>\n",
       "      <td>5</td>\n",
       "      <td>14990</td>\n",
       "      <td>2014.0</td>\n",
       "      <td>chrysler 300</td>\n",
       "      <td>excellent</td>\n",
       "      <td>6</td>\n",
       "      <td>gas</td>\n",
       "      <td>57954.0</td>\n",
       "      <td>automatic</td>\n",
       "      <td>sedan</td>\n",
       "      <td>black</td>\n",
       "      <td>1.0</td>\n",
       "      <td>2018-06-20</td>\n",
       "      <td>15</td>\n",
       "    </tr>\n",
       "  </tbody>\n",
       "</table>\n",
       "</div>"
      ],
      "text/plain": [
       "   index  price  model_year           model  condition  cylinders fuel  \\\n",
       "0      0   9400      2011.0          bmw x5       good          6  gas   \n",
       "1      2   5500      2013.0  hyundai sonata   like new          4  gas   \n",
       "2      3   1500      2003.0      ford f-150       fair          8  gas   \n",
       "3      4  14900      2017.0    chrysler 200  excellent          4  gas   \n",
       "4      5  14990      2014.0    chrysler 300  excellent          6  gas   \n",
       "\n",
       "   odometer transmission    type paint_color  is_4wd date_posted  days_listed  \n",
       "0  145000.0    automatic     SUV       white     1.0  2018-06-23           19  \n",
       "1  110000.0    automatic   sedan         red     0.0  2019-02-07           79  \n",
       "2       NaN    automatic  pickup       white     0.0  2019-03-22            9  \n",
       "3   80903.0    automatic   sedan       black     0.0  2019-04-02           28  \n",
       "4   57954.0    automatic   sedan       black     1.0  2018-06-20           15  "
      ]
     },
     "execution_count": 248,
     "metadata": {},
     "output_type": "execute_result"
    }
   ],
   "source": [
    "data.head()"
   ]
  },
  {
   "cell_type": "markdown",
   "metadata": {},
   "source": [
    "I am filling in missing values for odometer in later section when I calculate the age of the vehicle when it was posted."
   ]
  },
  {
   "cell_type": "markdown",
   "metadata": {},
   "source": [
    "#### Changing Data Types"
   ]
  },
  {
   "cell_type": "code",
   "execution_count": 249,
   "metadata": {},
   "outputs": [],
   "source": [
    "data['model_year'] = pd.to_datetime(data['model_year'], format = '%Y')"
   ]
  },
  {
   "cell_type": "code",
   "execution_count": 250,
   "metadata": {},
   "outputs": [],
   "source": [
    "data['is_4wd'] = data['is_4wd'].astype(bool)"
   ]
  },
  {
   "cell_type": "code",
   "execution_count": 251,
   "metadata": {},
   "outputs": [],
   "source": [
    "data['date_posted'] = pd.to_datetime(data['date_posted'], format = '%Y-%m-%d')"
   ]
  },
  {
   "cell_type": "code",
   "execution_count": 252,
   "metadata": {
    "scrolled": true
   },
   "outputs": [
    {
     "name": "stdout",
     "output_type": "stream",
     "text": [
      "<class 'pandas.core.frame.DataFrame'>\n",
      "RangeIndex: 47906 entries, 0 to 47905\n",
      "Data columns (total 14 columns):\n",
      " #   Column        Non-Null Count  Dtype         \n",
      "---  ------        --------------  -----         \n",
      " 0   index         47906 non-null  int64         \n",
      " 1   price         47906 non-null  int64         \n",
      " 2   model_year    47906 non-null  datetime64[ns]\n",
      " 3   model         47906 non-null  object        \n",
      " 4   condition     47906 non-null  object        \n",
      " 5   cylinders     47906 non-null  int32         \n",
      " 6   fuel          47906 non-null  object        \n",
      " 7   odometer      40563 non-null  float64       \n",
      " 8   transmission  47906 non-null  object        \n",
      " 9   type          47906 non-null  object        \n",
      " 10  paint_color   47906 non-null  object        \n",
      " 11  is_4wd        47906 non-null  bool          \n",
      " 12  date_posted   47906 non-null  datetime64[ns]\n",
      " 13  days_listed   47906 non-null  int64         \n",
      "dtypes: bool(1), datetime64[ns](2), float64(1), int32(1), int64(3), object(6)\n",
      "memory usage: 4.6+ MB\n"
     ]
    }
   ],
   "source": [
    "data.info()"
   ]
  },
  {
   "cell_type": "markdown",
   "metadata": {},
   "source": [
    "### Conclusion\n",
    "#### Handing Missing Values:\n",
    "1. I filled in missing values in **is_4wd** column with **0** as there are 2 possible values 0 or 1 in boolean datatype.\n",
    "2. I filled in missing values in **paint_color** column with random color generated from among the colors we have in **paint_color** dataset. As paint color is not very important factor in this analysis, filling in random values will not make much affect in our final analysis.\n",
    "3. I filled in missing values in **cylinders** with **Mode** value which is most repeated values. I grouped the cars by models and used most frequent cylinder in each model to fill in missing values.\n",
    "4. I dropped missing values in **model_year** column as there were 7% of missing values assuming that deleting 7% of missing values does not affect our final analysis.\n",
    "5. I will fill in missing values in **odometer** column after calculating **vehicle's age** in next step.\n",
    "\n",
    "#### Converting Datatypes:\n",
    "I converted **model_year** and **date_posted** to datetime datatype, **cylinders** into int32, and **is_4wd** into Boolean.\n"
   ]
  },
  {
   "cell_type": "markdown",
   "metadata": {},
   "source": [
    "# Step 3. Make calculations and add them to the table"
   ]
  },
  {
   "cell_type": "markdown",
   "metadata": {},
   "source": [
    "Calculating Day of the week, month, and year the ad was placed and adding it to table"
   ]
  },
  {
   "cell_type": "markdown",
   "metadata": {},
   "source": [
    "Also, calculating vehicle's age (in years) when the ad was placed and adding it to table"
   ]
  },
  {
   "cell_type": "code",
   "execution_count": 253,
   "metadata": {},
   "outputs": [],
   "source": [
    "data['Weekday'] = data['date_posted'].dt.weekday\n",
    "data['month'] = data['date_posted'].dt.month\n",
    "data['year'] = data['date_posted'].dt.year\n",
    "data['vehicle_age'] = (data['date_posted'] - data['model_year'])/np.timedelta64(1,'Y')\n"
   ]
  },
  {
   "cell_type": "markdown",
   "metadata": {},
   "source": [
    "Roundig age of vehicles into nearest integer"
   ]
  },
  {
   "cell_type": "code",
   "execution_count": 254,
   "metadata": {},
   "outputs": [],
   "source": [
    "data['vehicle_age'] = data['vehicle_age'].round()\n"
   ]
  },
  {
   "cell_type": "code",
   "execution_count": 255,
   "metadata": {
    "scrolled": false
   },
   "outputs": [
    {
     "data": {
      "text/html": [
       "<div>\n",
       "<style scoped>\n",
       "    .dataframe tbody tr th:only-of-type {\n",
       "        vertical-align: middle;\n",
       "    }\n",
       "\n",
       "    .dataframe tbody tr th {\n",
       "        vertical-align: top;\n",
       "    }\n",
       "\n",
       "    .dataframe thead th {\n",
       "        text-align: right;\n",
       "    }\n",
       "</style>\n",
       "<table border=\"1\" class=\"dataframe\">\n",
       "  <thead>\n",
       "    <tr style=\"text-align: right;\">\n",
       "      <th></th>\n",
       "      <th>index</th>\n",
       "      <th>price</th>\n",
       "      <th>model_year</th>\n",
       "      <th>model</th>\n",
       "      <th>condition</th>\n",
       "      <th>cylinders</th>\n",
       "      <th>fuel</th>\n",
       "      <th>odometer</th>\n",
       "      <th>transmission</th>\n",
       "      <th>type</th>\n",
       "      <th>paint_color</th>\n",
       "      <th>is_4wd</th>\n",
       "      <th>date_posted</th>\n",
       "      <th>days_listed</th>\n",
       "      <th>Weekday</th>\n",
       "      <th>month</th>\n",
       "      <th>year</th>\n",
       "      <th>vehicle_age</th>\n",
       "    </tr>\n",
       "  </thead>\n",
       "  <tbody>\n",
       "    <tr>\n",
       "      <th>0</th>\n",
       "      <td>0</td>\n",
       "      <td>9400</td>\n",
       "      <td>2011-01-01</td>\n",
       "      <td>bmw x5</td>\n",
       "      <td>good</td>\n",
       "      <td>6</td>\n",
       "      <td>gas</td>\n",
       "      <td>145000.0</td>\n",
       "      <td>automatic</td>\n",
       "      <td>SUV</td>\n",
       "      <td>white</td>\n",
       "      <td>True</td>\n",
       "      <td>2018-06-23</td>\n",
       "      <td>19</td>\n",
       "      <td>5</td>\n",
       "      <td>6</td>\n",
       "      <td>2018</td>\n",
       "      <td>7.0</td>\n",
       "    </tr>\n",
       "    <tr>\n",
       "      <th>1</th>\n",
       "      <td>2</td>\n",
       "      <td>5500</td>\n",
       "      <td>2013-01-01</td>\n",
       "      <td>hyundai sonata</td>\n",
       "      <td>like new</td>\n",
       "      <td>4</td>\n",
       "      <td>gas</td>\n",
       "      <td>110000.0</td>\n",
       "      <td>automatic</td>\n",
       "      <td>sedan</td>\n",
       "      <td>red</td>\n",
       "      <td>False</td>\n",
       "      <td>2019-02-07</td>\n",
       "      <td>79</td>\n",
       "      <td>3</td>\n",
       "      <td>2</td>\n",
       "      <td>2019</td>\n",
       "      <td>6.0</td>\n",
       "    </tr>\n",
       "    <tr>\n",
       "      <th>2</th>\n",
       "      <td>3</td>\n",
       "      <td>1500</td>\n",
       "      <td>2003-01-01</td>\n",
       "      <td>ford f-150</td>\n",
       "      <td>fair</td>\n",
       "      <td>8</td>\n",
       "      <td>gas</td>\n",
       "      <td>NaN</td>\n",
       "      <td>automatic</td>\n",
       "      <td>pickup</td>\n",
       "      <td>white</td>\n",
       "      <td>False</td>\n",
       "      <td>2019-03-22</td>\n",
       "      <td>9</td>\n",
       "      <td>4</td>\n",
       "      <td>3</td>\n",
       "      <td>2019</td>\n",
       "      <td>16.0</td>\n",
       "    </tr>\n",
       "    <tr>\n",
       "      <th>3</th>\n",
       "      <td>4</td>\n",
       "      <td>14900</td>\n",
       "      <td>2017-01-01</td>\n",
       "      <td>chrysler 200</td>\n",
       "      <td>excellent</td>\n",
       "      <td>4</td>\n",
       "      <td>gas</td>\n",
       "      <td>80903.0</td>\n",
       "      <td>automatic</td>\n",
       "      <td>sedan</td>\n",
       "      <td>black</td>\n",
       "      <td>False</td>\n",
       "      <td>2019-04-02</td>\n",
       "      <td>28</td>\n",
       "      <td>1</td>\n",
       "      <td>4</td>\n",
       "      <td>2019</td>\n",
       "      <td>2.0</td>\n",
       "    </tr>\n",
       "    <tr>\n",
       "      <th>4</th>\n",
       "      <td>5</td>\n",
       "      <td>14990</td>\n",
       "      <td>2014-01-01</td>\n",
       "      <td>chrysler 300</td>\n",
       "      <td>excellent</td>\n",
       "      <td>6</td>\n",
       "      <td>gas</td>\n",
       "      <td>57954.0</td>\n",
       "      <td>automatic</td>\n",
       "      <td>sedan</td>\n",
       "      <td>black</td>\n",
       "      <td>True</td>\n",
       "      <td>2018-06-20</td>\n",
       "      <td>15</td>\n",
       "      <td>2</td>\n",
       "      <td>6</td>\n",
       "      <td>2018</td>\n",
       "      <td>4.0</td>\n",
       "    </tr>\n",
       "  </tbody>\n",
       "</table>\n",
       "</div>"
      ],
      "text/plain": [
       "   index  price model_year           model  condition  cylinders fuel  \\\n",
       "0      0   9400 2011-01-01          bmw x5       good          6  gas   \n",
       "1      2   5500 2013-01-01  hyundai sonata   like new          4  gas   \n",
       "2      3   1500 2003-01-01      ford f-150       fair          8  gas   \n",
       "3      4  14900 2017-01-01    chrysler 200  excellent          4  gas   \n",
       "4      5  14990 2014-01-01    chrysler 300  excellent          6  gas   \n",
       "\n",
       "   odometer transmission    type paint_color  is_4wd date_posted  days_listed  \\\n",
       "0  145000.0    automatic     SUV       white    True  2018-06-23           19   \n",
       "1  110000.0    automatic   sedan         red   False  2019-02-07           79   \n",
       "2       NaN    automatic  pickup       white   False  2019-03-22            9   \n",
       "3   80903.0    automatic   sedan       black   False  2019-04-02           28   \n",
       "4   57954.0    automatic   sedan       black    True  2018-06-20           15   \n",
       "\n",
       "   Weekday  month  year  vehicle_age  \n",
       "0        5      6  2018          7.0  \n",
       "1        3      2  2019          6.0  \n",
       "2        4      3  2019         16.0  \n",
       "3        1      4  2019          2.0  \n",
       "4        2      6  2018          4.0  "
      ]
     },
     "execution_count": 255,
     "metadata": {},
     "output_type": "execute_result"
    }
   ],
   "source": [
    "data.head()"
   ]
  },
  {
   "cell_type": "markdown",
   "metadata": {},
   "source": [
    "Observing mean of odometer grouped by vehicle's age"
   ]
  },
  {
   "cell_type": "code",
   "execution_count": 256,
   "metadata": {},
   "outputs": [
    {
     "data": {
      "text/plain": [
       "vehicle_age\n",
       "0.0      19992.413199\n",
       "1.0      29863.872156\n",
       "2.0      50845.689736\n",
       "3.0      65571.693870\n",
       "4.0      84103.021517\n",
       "5.0      95676.485234\n",
       "6.0     105672.628533\n",
       "7.0     113946.134410\n",
       "8.0     125528.353451\n",
       "9.0     128812.897950\n",
       "10.0    134946.626046\n",
       "11.0    141590.431724\n",
       "12.0    146425.928701\n",
       "13.0    153053.658960\n",
       "14.0    151947.142070\n",
       "15.0    159143.240964\n",
       "16.0    160619.768456\n",
       "17.0    163064.918951\n",
       "18.0    176723.545322\n",
       "19.0    177779.927176\n",
       "20.0    174500.484919\n",
       "21.0    171242.179245\n",
       "22.0    180231.880952\n",
       "23.0    177464.470238\n",
       "24.0    162694.392405\n",
       "25.0    149335.670588\n",
       "26.0    173493.086420\n",
       "27.0    147425.083333\n",
       "28.0    154725.914894\n",
       "29.0    145092.704545\n",
       "30.0    121558.714286\n",
       "31.0    119361.757576\n",
       "32.0    105971.625000\n",
       "33.0    111217.444444\n",
       "34.0     93025.100000\n",
       "35.0     88157.400000\n",
       "36.0     47657.285714\n",
       "37.0     93951.833333\n",
       "38.0     66562.200000\n",
       "39.0     68736.111111\n",
       "40.0     67092.631579\n",
       "41.0     87045.833333\n",
       "42.0     80918.200000\n",
       "43.0     31519.000000\n",
       "44.0     50366.666667\n",
       "45.0     57826.600000\n",
       "46.0     65579.666667\n",
       "47.0     79948.800000\n",
       "48.0     56846.500000\n",
       "49.0     76348.571429\n",
       "50.0     23580.888889\n",
       "51.0     51621.750000\n",
       "52.0     72820.800000\n",
       "53.0     63384.375000\n",
       "54.0    140399.800000\n",
       "55.0     62420.000000\n",
       "56.0     40487.000000\n",
       "57.0     49091.333333\n",
       "58.0     33500.000000\n",
       "59.0     31000.000000\n",
       "Name: odometer, dtype: float64"
      ]
     },
     "execution_count": 256,
     "metadata": {},
     "output_type": "execute_result"
    }
   ],
   "source": [
    "mean_odometer = data.groupby('vehicle_age')['odometer'].mean()\n",
    "mean_odometer.head(60)\n"
   ]
  },
  {
   "cell_type": "markdown",
   "metadata": {},
   "source": [
    "Observing median of odometer grouped by vehicle's age"
   ]
  },
  {
   "cell_type": "code",
   "execution_count": 257,
   "metadata": {},
   "outputs": [
    {
     "data": {
      "text/plain": [
       "vehicle_age\n",
       "0.0      16295.0\n",
       "1.0      25000.0\n",
       "2.0      43000.0\n",
       "3.0      59565.0\n",
       "4.0      79976.0\n",
       "5.0      91013.0\n",
       "6.0     102300.0\n",
       "7.0     113000.0\n",
       "8.0     124193.0\n",
       "9.0     128000.0\n",
       "10.0    134000.0\n",
       "11.0    141700.0\n",
       "12.0    144532.0\n",
       "13.0    152000.0\n",
       "14.0    152315.0\n",
       "15.0    159000.0\n",
       "16.0    160000.0\n",
       "17.0    162245.0\n",
       "18.0    180000.0\n",
       "19.0    180000.0\n",
       "20.0    173071.0\n",
       "21.0    173080.0\n",
       "22.0    183201.5\n",
       "23.0    164950.0\n",
       "24.0    165000.0\n",
       "25.0    143000.0\n",
       "26.0    181530.0\n",
       "27.0    147121.5\n",
       "28.0    159000.0\n",
       "29.0    136450.0\n",
       "30.0    120000.0\n",
       "31.0    100309.0\n",
       "32.0    104976.5\n",
       "33.0     90420.0\n",
       "34.0     85561.5\n",
       "35.0     84000.0\n",
       "36.0     19053.0\n",
       "37.0     98000.0\n",
       "38.0     75000.0\n",
       "39.0     69900.0\n",
       "40.0     56000.0\n",
       "41.0     85831.5\n",
       "42.0     79500.0\n",
       "43.0     31519.0\n",
       "44.0     54500.0\n",
       "45.0     56000.0\n",
       "46.0     62043.0\n",
       "47.0     72744.0\n",
       "48.0     71250.0\n",
       "49.0     83890.0\n",
       "50.0     10000.0\n",
       "51.0     52412.0\n",
       "52.0     67200.0\n",
       "53.0     58035.0\n",
       "54.0     57330.5\n",
       "55.0     47000.0\n",
       "56.0     40487.0\n",
       "57.0     72000.0\n",
       "58.0     33500.0\n",
       "59.0     31000.0\n",
       "Name: odometer, dtype: float64"
      ]
     },
     "execution_count": 257,
     "metadata": {},
     "output_type": "execute_result"
    }
   ],
   "source": [
    "median_odometer = data.groupby('vehicle_age')['odometer'].median()\n",
    "median_odometer.head(60)"
   ]
  },
  {
   "cell_type": "markdown",
   "metadata": {},
   "source": [
    "As there are not much differences in mean and median, I am filling in missing values in odometer with mean odometer of vehicle grouped by age"
   ]
  },
  {
   "cell_type": "code",
   "execution_count": 258,
   "metadata": {
    "scrolled": true
   },
   "outputs": [],
   "source": [
    "data['odometer'] = data.groupby('vehicle_age')['odometer'].apply(lambda x:x.fillna(x.mean()))"
   ]
  },
  {
   "cell_type": "code",
   "execution_count": 259,
   "metadata": {},
   "outputs": [
    {
     "data": {
      "text/html": [
       "<div>\n",
       "<style scoped>\n",
       "    .dataframe tbody tr th:only-of-type {\n",
       "        vertical-align: middle;\n",
       "    }\n",
       "\n",
       "    .dataframe tbody tr th {\n",
       "        vertical-align: top;\n",
       "    }\n",
       "\n",
       "    .dataframe thead th {\n",
       "        text-align: right;\n",
       "    }\n",
       "</style>\n",
       "<table border=\"1\" class=\"dataframe\">\n",
       "  <thead>\n",
       "    <tr style=\"text-align: right;\">\n",
       "      <th></th>\n",
       "      <th>index</th>\n",
       "      <th>price</th>\n",
       "      <th>model_year</th>\n",
       "      <th>model</th>\n",
       "      <th>condition</th>\n",
       "      <th>cylinders</th>\n",
       "      <th>fuel</th>\n",
       "      <th>odometer</th>\n",
       "      <th>transmission</th>\n",
       "      <th>type</th>\n",
       "      <th>paint_color</th>\n",
       "      <th>is_4wd</th>\n",
       "      <th>date_posted</th>\n",
       "      <th>days_listed</th>\n",
       "      <th>Weekday</th>\n",
       "      <th>month</th>\n",
       "      <th>year</th>\n",
       "      <th>vehicle_age</th>\n",
       "    </tr>\n",
       "  </thead>\n",
       "  <tbody>\n",
       "    <tr>\n",
       "      <th>0</th>\n",
       "      <td>0</td>\n",
       "      <td>9400</td>\n",
       "      <td>2011-01-01</td>\n",
       "      <td>bmw x5</td>\n",
       "      <td>good</td>\n",
       "      <td>6</td>\n",
       "      <td>gas</td>\n",
       "      <td>145000.000000</td>\n",
       "      <td>automatic</td>\n",
       "      <td>SUV</td>\n",
       "      <td>white</td>\n",
       "      <td>True</td>\n",
       "      <td>2018-06-23</td>\n",
       "      <td>19</td>\n",
       "      <td>5</td>\n",
       "      <td>6</td>\n",
       "      <td>2018</td>\n",
       "      <td>7.0</td>\n",
       "    </tr>\n",
       "    <tr>\n",
       "      <th>1</th>\n",
       "      <td>2</td>\n",
       "      <td>5500</td>\n",
       "      <td>2013-01-01</td>\n",
       "      <td>hyundai sonata</td>\n",
       "      <td>like new</td>\n",
       "      <td>4</td>\n",
       "      <td>gas</td>\n",
       "      <td>110000.000000</td>\n",
       "      <td>automatic</td>\n",
       "      <td>sedan</td>\n",
       "      <td>red</td>\n",
       "      <td>False</td>\n",
       "      <td>2019-02-07</td>\n",
       "      <td>79</td>\n",
       "      <td>3</td>\n",
       "      <td>2</td>\n",
       "      <td>2019</td>\n",
       "      <td>6.0</td>\n",
       "    </tr>\n",
       "    <tr>\n",
       "      <th>2</th>\n",
       "      <td>3</td>\n",
       "      <td>1500</td>\n",
       "      <td>2003-01-01</td>\n",
       "      <td>ford f-150</td>\n",
       "      <td>fair</td>\n",
       "      <td>8</td>\n",
       "      <td>gas</td>\n",
       "      <td>160619.768456</td>\n",
       "      <td>automatic</td>\n",
       "      <td>pickup</td>\n",
       "      <td>white</td>\n",
       "      <td>False</td>\n",
       "      <td>2019-03-22</td>\n",
       "      <td>9</td>\n",
       "      <td>4</td>\n",
       "      <td>3</td>\n",
       "      <td>2019</td>\n",
       "      <td>16.0</td>\n",
       "    </tr>\n",
       "    <tr>\n",
       "      <th>3</th>\n",
       "      <td>4</td>\n",
       "      <td>14900</td>\n",
       "      <td>2017-01-01</td>\n",
       "      <td>chrysler 200</td>\n",
       "      <td>excellent</td>\n",
       "      <td>4</td>\n",
       "      <td>gas</td>\n",
       "      <td>80903.000000</td>\n",
       "      <td>automatic</td>\n",
       "      <td>sedan</td>\n",
       "      <td>black</td>\n",
       "      <td>False</td>\n",
       "      <td>2019-04-02</td>\n",
       "      <td>28</td>\n",
       "      <td>1</td>\n",
       "      <td>4</td>\n",
       "      <td>2019</td>\n",
       "      <td>2.0</td>\n",
       "    </tr>\n",
       "    <tr>\n",
       "      <th>4</th>\n",
       "      <td>5</td>\n",
       "      <td>14990</td>\n",
       "      <td>2014-01-01</td>\n",
       "      <td>chrysler 300</td>\n",
       "      <td>excellent</td>\n",
       "      <td>6</td>\n",
       "      <td>gas</td>\n",
       "      <td>57954.000000</td>\n",
       "      <td>automatic</td>\n",
       "      <td>sedan</td>\n",
       "      <td>black</td>\n",
       "      <td>True</td>\n",
       "      <td>2018-06-20</td>\n",
       "      <td>15</td>\n",
       "      <td>2</td>\n",
       "      <td>6</td>\n",
       "      <td>2018</td>\n",
       "      <td>4.0</td>\n",
       "    </tr>\n",
       "  </tbody>\n",
       "</table>\n",
       "</div>"
      ],
      "text/plain": [
       "   index  price model_year           model  condition  cylinders fuel  \\\n",
       "0      0   9400 2011-01-01          bmw x5       good          6  gas   \n",
       "1      2   5500 2013-01-01  hyundai sonata   like new          4  gas   \n",
       "2      3   1500 2003-01-01      ford f-150       fair          8  gas   \n",
       "3      4  14900 2017-01-01    chrysler 200  excellent          4  gas   \n",
       "4      5  14990 2014-01-01    chrysler 300  excellent          6  gas   \n",
       "\n",
       "        odometer transmission    type paint_color  is_4wd date_posted  \\\n",
       "0  145000.000000    automatic     SUV       white    True  2018-06-23   \n",
       "1  110000.000000    automatic   sedan         red   False  2019-02-07   \n",
       "2  160619.768456    automatic  pickup       white   False  2019-03-22   \n",
       "3   80903.000000    automatic   sedan       black   False  2019-04-02   \n",
       "4   57954.000000    automatic   sedan       black    True  2018-06-20   \n",
       "\n",
       "   days_listed  Weekday  month  year  vehicle_age  \n",
       "0           19        5      6  2018          7.0  \n",
       "1           79        3      2  2019          6.0  \n",
       "2            9        4      3  2019         16.0  \n",
       "3           28        1      4  2019          2.0  \n",
       "4           15        2      6  2018          4.0  "
      ]
     },
     "execution_count": 259,
     "metadata": {},
     "output_type": "execute_result"
    }
   ],
   "source": [
    "data.head()"
   ]
  },
  {
   "cell_type": "code",
   "execution_count": 260,
   "metadata": {
    "scrolled": true
   },
   "outputs": [
    {
     "data": {
      "text/plain": [
       "index           0\n",
       "price           0\n",
       "model_year      0\n",
       "model           0\n",
       "condition       0\n",
       "cylinders       0\n",
       "fuel            0\n",
       "odometer        2\n",
       "transmission    0\n",
       "type            0\n",
       "paint_color     0\n",
       "is_4wd          0\n",
       "date_posted     0\n",
       "days_listed     0\n",
       "Weekday         0\n",
       "month           0\n",
       "year            0\n",
       "vehicle_age     0\n",
       "dtype: int64"
      ]
     },
     "execution_count": 260,
     "metadata": {},
     "output_type": "execute_result"
    }
   ],
   "source": [
    "data.isnull().sum()"
   ]
  },
  {
   "cell_type": "markdown",
   "metadata": {},
   "source": [
    "We still have 2 missing values in odometer, lets look them closely"
   ]
  },
  {
   "cell_type": "markdown",
   "metadata": {},
   "source": [
    "Retrieving only the rows with null values."
   ]
  },
  {
   "cell_type": "code",
   "execution_count": 261,
   "metadata": {
    "scrolled": true
   },
   "outputs": [
    {
     "data": {
      "text/html": [
       "<div>\n",
       "<style scoped>\n",
       "    .dataframe tbody tr th:only-of-type {\n",
       "        vertical-align: middle;\n",
       "    }\n",
       "\n",
       "    .dataframe tbody tr th {\n",
       "        vertical-align: top;\n",
       "    }\n",
       "\n",
       "    .dataframe thead th {\n",
       "        text-align: right;\n",
       "    }\n",
       "</style>\n",
       "<table border=\"1\" class=\"dataframe\">\n",
       "  <thead>\n",
       "    <tr style=\"text-align: right;\">\n",
       "      <th></th>\n",
       "      <th>index</th>\n",
       "      <th>price</th>\n",
       "      <th>model_year</th>\n",
       "      <th>model</th>\n",
       "      <th>condition</th>\n",
       "      <th>cylinders</th>\n",
       "      <th>fuel</th>\n",
       "      <th>odometer</th>\n",
       "      <th>transmission</th>\n",
       "      <th>type</th>\n",
       "      <th>paint_color</th>\n",
       "      <th>is_4wd</th>\n",
       "      <th>date_posted</th>\n",
       "      <th>days_listed</th>\n",
       "      <th>Weekday</th>\n",
       "      <th>month</th>\n",
       "      <th>year</th>\n",
       "      <th>vehicle_age</th>\n",
       "    </tr>\n",
       "  </thead>\n",
       "  <tbody>\n",
       "    <tr>\n",
       "      <th>31527</th>\n",
       "      <td>33907</td>\n",
       "      <td>12995</td>\n",
       "      <td>1908-01-01</td>\n",
       "      <td>cadillac escalade</td>\n",
       "      <td>excellent</td>\n",
       "      <td>8</td>\n",
       "      <td>gas</td>\n",
       "      <td>NaN</td>\n",
       "      <td>automatic</td>\n",
       "      <td>SUV</td>\n",
       "      <td>white</td>\n",
       "      <td>False</td>\n",
       "      <td>2018-06-24</td>\n",
       "      <td>25</td>\n",
       "      <td>6</td>\n",
       "      <td>6</td>\n",
       "      <td>2018</td>\n",
       "      <td>110.0</td>\n",
       "    </tr>\n",
       "    <tr>\n",
       "      <th>42491</th>\n",
       "      <td>45694</td>\n",
       "      <td>18000</td>\n",
       "      <td>1929-01-01</td>\n",
       "      <td>ford f-150</td>\n",
       "      <td>good</td>\n",
       "      <td>8</td>\n",
       "      <td>gas</td>\n",
       "      <td>NaN</td>\n",
       "      <td>manual</td>\n",
       "      <td>other</td>\n",
       "      <td>silver</td>\n",
       "      <td>False</td>\n",
       "      <td>2018-11-18</td>\n",
       "      <td>59</td>\n",
       "      <td>6</td>\n",
       "      <td>11</td>\n",
       "      <td>2018</td>\n",
       "      <td>90.0</td>\n",
       "    </tr>\n",
       "  </tbody>\n",
       "</table>\n",
       "</div>"
      ],
      "text/plain": [
       "       index  price model_year              model  condition  cylinders fuel  \\\n",
       "31527  33907  12995 1908-01-01  cadillac escalade  excellent          8  gas   \n",
       "42491  45694  18000 1929-01-01         ford f-150       good          8  gas   \n",
       "\n",
       "       odometer transmission   type paint_color  is_4wd date_posted  \\\n",
       "31527       NaN    automatic    SUV       white   False  2018-06-24   \n",
       "42491       NaN       manual  other      silver   False  2018-11-18   \n",
       "\n",
       "       days_listed  Weekday  month  year  vehicle_age  \n",
       "31527           25        6      6  2018        110.0  \n",
       "42491           59        6     11  2018         90.0  "
      ]
     },
     "execution_count": 261,
     "metadata": {},
     "output_type": "execute_result"
    }
   ],
   "source": [
    "null_data = data[data.isnull().any(axis=1)]\n",
    "null_data"
   ]
  },
  {
   "cell_type": "markdown",
   "metadata": {},
   "source": [
    "If we go back and look mean values grouped by age of vehicle, we have odometer data for only the vehicles which are 0 yrs to 89 years old. There 2 rows have cars with age 90 years and 110 year (Pretty old, huh..)So there columns are still missing values. So I have decided to drop these columns from the dataset. If there were many data, we should have reconsidered before deleting. Since its only 2 rows, it doesnt make much impact in our data and it is a outlier also."
   ]
  },
  {
   "cell_type": "code",
   "execution_count": 262,
   "metadata": {},
   "outputs": [],
   "source": [
    "data = data.dropna().reset_index(drop = True)"
   ]
  },
  {
   "cell_type": "code",
   "execution_count": 263,
   "metadata": {},
   "outputs": [],
   "source": [
    "del data['index']"
   ]
  },
  {
   "cell_type": "code",
   "execution_count": 264,
   "metadata": {
    "scrolled": true
   },
   "outputs": [
    {
     "data": {
      "text/html": [
       "<div>\n",
       "<style scoped>\n",
       "    .dataframe tbody tr th:only-of-type {\n",
       "        vertical-align: middle;\n",
       "    }\n",
       "\n",
       "    .dataframe tbody tr th {\n",
       "        vertical-align: top;\n",
       "    }\n",
       "\n",
       "    .dataframe thead th {\n",
       "        text-align: right;\n",
       "    }\n",
       "</style>\n",
       "<table border=\"1\" class=\"dataframe\">\n",
       "  <thead>\n",
       "    <tr style=\"text-align: right;\">\n",
       "      <th></th>\n",
       "      <th>price</th>\n",
       "      <th>model_year</th>\n",
       "      <th>model</th>\n",
       "      <th>condition</th>\n",
       "      <th>cylinders</th>\n",
       "      <th>fuel</th>\n",
       "      <th>odometer</th>\n",
       "      <th>transmission</th>\n",
       "      <th>type</th>\n",
       "      <th>paint_color</th>\n",
       "      <th>is_4wd</th>\n",
       "      <th>date_posted</th>\n",
       "      <th>days_listed</th>\n",
       "      <th>Weekday</th>\n",
       "      <th>month</th>\n",
       "      <th>year</th>\n",
       "      <th>vehicle_age</th>\n",
       "    </tr>\n",
       "  </thead>\n",
       "  <tbody>\n",
       "    <tr>\n",
       "      <th>0</th>\n",
       "      <td>9400</td>\n",
       "      <td>2011-01-01</td>\n",
       "      <td>bmw x5</td>\n",
       "      <td>good</td>\n",
       "      <td>6</td>\n",
       "      <td>gas</td>\n",
       "      <td>145000.000000</td>\n",
       "      <td>automatic</td>\n",
       "      <td>SUV</td>\n",
       "      <td>white</td>\n",
       "      <td>True</td>\n",
       "      <td>2018-06-23</td>\n",
       "      <td>19</td>\n",
       "      <td>5</td>\n",
       "      <td>6</td>\n",
       "      <td>2018</td>\n",
       "      <td>7.0</td>\n",
       "    </tr>\n",
       "    <tr>\n",
       "      <th>1</th>\n",
       "      <td>5500</td>\n",
       "      <td>2013-01-01</td>\n",
       "      <td>hyundai sonata</td>\n",
       "      <td>like new</td>\n",
       "      <td>4</td>\n",
       "      <td>gas</td>\n",
       "      <td>110000.000000</td>\n",
       "      <td>automatic</td>\n",
       "      <td>sedan</td>\n",
       "      <td>red</td>\n",
       "      <td>False</td>\n",
       "      <td>2019-02-07</td>\n",
       "      <td>79</td>\n",
       "      <td>3</td>\n",
       "      <td>2</td>\n",
       "      <td>2019</td>\n",
       "      <td>6.0</td>\n",
       "    </tr>\n",
       "    <tr>\n",
       "      <th>2</th>\n",
       "      <td>1500</td>\n",
       "      <td>2003-01-01</td>\n",
       "      <td>ford f-150</td>\n",
       "      <td>fair</td>\n",
       "      <td>8</td>\n",
       "      <td>gas</td>\n",
       "      <td>160619.768456</td>\n",
       "      <td>automatic</td>\n",
       "      <td>pickup</td>\n",
       "      <td>white</td>\n",
       "      <td>False</td>\n",
       "      <td>2019-03-22</td>\n",
       "      <td>9</td>\n",
       "      <td>4</td>\n",
       "      <td>3</td>\n",
       "      <td>2019</td>\n",
       "      <td>16.0</td>\n",
       "    </tr>\n",
       "    <tr>\n",
       "      <th>3</th>\n",
       "      <td>14900</td>\n",
       "      <td>2017-01-01</td>\n",
       "      <td>chrysler 200</td>\n",
       "      <td>excellent</td>\n",
       "      <td>4</td>\n",
       "      <td>gas</td>\n",
       "      <td>80903.000000</td>\n",
       "      <td>automatic</td>\n",
       "      <td>sedan</td>\n",
       "      <td>black</td>\n",
       "      <td>False</td>\n",
       "      <td>2019-04-02</td>\n",
       "      <td>28</td>\n",
       "      <td>1</td>\n",
       "      <td>4</td>\n",
       "      <td>2019</td>\n",
       "      <td>2.0</td>\n",
       "    </tr>\n",
       "    <tr>\n",
       "      <th>4</th>\n",
       "      <td>14990</td>\n",
       "      <td>2014-01-01</td>\n",
       "      <td>chrysler 300</td>\n",
       "      <td>excellent</td>\n",
       "      <td>6</td>\n",
       "      <td>gas</td>\n",
       "      <td>57954.000000</td>\n",
       "      <td>automatic</td>\n",
       "      <td>sedan</td>\n",
       "      <td>black</td>\n",
       "      <td>True</td>\n",
       "      <td>2018-06-20</td>\n",
       "      <td>15</td>\n",
       "      <td>2</td>\n",
       "      <td>6</td>\n",
       "      <td>2018</td>\n",
       "      <td>4.0</td>\n",
       "    </tr>\n",
       "  </tbody>\n",
       "</table>\n",
       "</div>"
      ],
      "text/plain": [
       "   price model_year           model  condition  cylinders fuel       odometer  \\\n",
       "0   9400 2011-01-01          bmw x5       good          6  gas  145000.000000   \n",
       "1   5500 2013-01-01  hyundai sonata   like new          4  gas  110000.000000   \n",
       "2   1500 2003-01-01      ford f-150       fair          8  gas  160619.768456   \n",
       "3  14900 2017-01-01    chrysler 200  excellent          4  gas   80903.000000   \n",
       "4  14990 2014-01-01    chrysler 300  excellent          6  gas   57954.000000   \n",
       "\n",
       "  transmission    type paint_color  is_4wd date_posted  days_listed  Weekday  \\\n",
       "0    automatic     SUV       white    True  2018-06-23           19        5   \n",
       "1    automatic   sedan         red   False  2019-02-07           79        3   \n",
       "2    automatic  pickup       white   False  2019-03-22            9        4   \n",
       "3    automatic   sedan       black   False  2019-04-02           28        1   \n",
       "4    automatic   sedan       black    True  2018-06-20           15        2   \n",
       "\n",
       "   month  year  vehicle_age  \n",
       "0      6  2018          7.0  \n",
       "1      2  2019          6.0  \n",
       "2      3  2019         16.0  \n",
       "3      4  2019          2.0  \n",
       "4      6  2018          4.0  "
      ]
     },
     "execution_count": 264,
     "metadata": {},
     "output_type": "execute_result"
    }
   ],
   "source": [
    "data.head()"
   ]
  },
  {
   "cell_type": "code",
   "execution_count": 265,
   "metadata": {},
   "outputs": [
    {
     "data": {
      "text/plain": [
       "price           0\n",
       "model_year      0\n",
       "model           0\n",
       "condition       0\n",
       "cylinders       0\n",
       "fuel            0\n",
       "odometer        0\n",
       "transmission    0\n",
       "type            0\n",
       "paint_color     0\n",
       "is_4wd          0\n",
       "date_posted     0\n",
       "days_listed     0\n",
       "Weekday         0\n",
       "month           0\n",
       "year            0\n",
       "vehicle_age     0\n",
       "dtype: int64"
      ]
     },
     "execution_count": 265,
     "metadata": {},
     "output_type": "execute_result"
    }
   ],
   "source": [
    "data.isnull().sum()"
   ]
  },
  {
   "cell_type": "markdown",
   "metadata": {},
   "source": [
    "Now we do not have any missing values so I am proceeding to the next step."
   ]
  },
  {
   "cell_type": "markdown",
   "metadata": {},
   "source": [
    "Calculating vehicle's average mileage per year\n"
   ]
  },
  {
   "cell_type": "code",
   "execution_count": 266,
   "metadata": {},
   "outputs": [
    {
     "data": {
      "text/plain": [
       "array([  7,   6,  16,   2,   4,  11,   8,   1,  10,   5,   9,  12,  15,\n",
       "        14,   3,  17,  13,  53,  25,   0,  19,  18,  26,  22,  38,  20,\n",
       "        23,  24,  44,  21,  34,  42,  32,  45,  29,  28,  27,  47,  52,\n",
       "        31,  50,  30,  40,  54,  51,  39,  33,  55,  41,  56,  35,  37,\n",
       "        46,  49,  64,  48,  43,  36,  65,  57,  71,  59, 111,  58,  83,\n",
       "        70,  60,  61], dtype=int64)"
      ]
     },
     "execution_count": 266,
     "metadata": {},
     "output_type": "execute_result"
    }
   ],
   "source": [
    "data['vehicle_age'] = data['vehicle_age'].astype('int64')\n",
    "data['vehicle_age'].unique()"
   ]
  },
  {
   "cell_type": "markdown",
   "metadata": {},
   "source": [
    "- We have vehicles that are 0 year old or new. Therefore, I am calculating average mileage only for the vehicles that are greater than 0 year old. Also, keeping those values generates infinite yearly average mileage in the calculation, so it would be better to avoid them."
   ]
  },
  {
   "cell_type": "code",
   "execution_count": 267,
   "metadata": {},
   "outputs": [
    {
     "data": {
      "text/html": [
       "<div>\n",
       "<style scoped>\n",
       "    .dataframe tbody tr th:only-of-type {\n",
       "        vertical-align: middle;\n",
       "    }\n",
       "\n",
       "    .dataframe tbody tr th {\n",
       "        vertical-align: top;\n",
       "    }\n",
       "\n",
       "    .dataframe thead th {\n",
       "        text-align: right;\n",
       "    }\n",
       "</style>\n",
       "<table border=\"1\" class=\"dataframe\">\n",
       "  <thead>\n",
       "    <tr style=\"text-align: right;\">\n",
       "      <th></th>\n",
       "      <th>price</th>\n",
       "      <th>model_year</th>\n",
       "      <th>model</th>\n",
       "      <th>condition</th>\n",
       "      <th>cylinders</th>\n",
       "      <th>fuel</th>\n",
       "      <th>odometer</th>\n",
       "      <th>transmission</th>\n",
       "      <th>type</th>\n",
       "      <th>paint_color</th>\n",
       "      <th>is_4wd</th>\n",
       "      <th>date_posted</th>\n",
       "      <th>days_listed</th>\n",
       "      <th>Weekday</th>\n",
       "      <th>month</th>\n",
       "      <th>year</th>\n",
       "      <th>vehicle_age</th>\n",
       "      <th>avg_mile_yearly</th>\n",
       "    </tr>\n",
       "  </thead>\n",
       "  <tbody>\n",
       "    <tr>\n",
       "      <th>0</th>\n",
       "      <td>9400</td>\n",
       "      <td>2011-01-01</td>\n",
       "      <td>bmw x5</td>\n",
       "      <td>good</td>\n",
       "      <td>6</td>\n",
       "      <td>gas</td>\n",
       "      <td>145000.000000</td>\n",
       "      <td>automatic</td>\n",
       "      <td>SUV</td>\n",
       "      <td>white</td>\n",
       "      <td>True</td>\n",
       "      <td>2018-06-23</td>\n",
       "      <td>19</td>\n",
       "      <td>5</td>\n",
       "      <td>6</td>\n",
       "      <td>2018</td>\n",
       "      <td>7</td>\n",
       "      <td>20714.0</td>\n",
       "    </tr>\n",
       "    <tr>\n",
       "      <th>1</th>\n",
       "      <td>5500</td>\n",
       "      <td>2013-01-01</td>\n",
       "      <td>hyundai sonata</td>\n",
       "      <td>like new</td>\n",
       "      <td>4</td>\n",
       "      <td>gas</td>\n",
       "      <td>110000.000000</td>\n",
       "      <td>automatic</td>\n",
       "      <td>sedan</td>\n",
       "      <td>red</td>\n",
       "      <td>False</td>\n",
       "      <td>2019-02-07</td>\n",
       "      <td>79</td>\n",
       "      <td>3</td>\n",
       "      <td>2</td>\n",
       "      <td>2019</td>\n",
       "      <td>6</td>\n",
       "      <td>18333.0</td>\n",
       "    </tr>\n",
       "    <tr>\n",
       "      <th>2</th>\n",
       "      <td>1500</td>\n",
       "      <td>2003-01-01</td>\n",
       "      <td>ford f-150</td>\n",
       "      <td>fair</td>\n",
       "      <td>8</td>\n",
       "      <td>gas</td>\n",
       "      <td>160619.768456</td>\n",
       "      <td>automatic</td>\n",
       "      <td>pickup</td>\n",
       "      <td>white</td>\n",
       "      <td>False</td>\n",
       "      <td>2019-03-22</td>\n",
       "      <td>9</td>\n",
       "      <td>4</td>\n",
       "      <td>3</td>\n",
       "      <td>2019</td>\n",
       "      <td>16</td>\n",
       "      <td>10039.0</td>\n",
       "    </tr>\n",
       "    <tr>\n",
       "      <th>3</th>\n",
       "      <td>14900</td>\n",
       "      <td>2017-01-01</td>\n",
       "      <td>chrysler 200</td>\n",
       "      <td>excellent</td>\n",
       "      <td>4</td>\n",
       "      <td>gas</td>\n",
       "      <td>80903.000000</td>\n",
       "      <td>automatic</td>\n",
       "      <td>sedan</td>\n",
       "      <td>black</td>\n",
       "      <td>False</td>\n",
       "      <td>2019-04-02</td>\n",
       "      <td>28</td>\n",
       "      <td>1</td>\n",
       "      <td>4</td>\n",
       "      <td>2019</td>\n",
       "      <td>2</td>\n",
       "      <td>40452.0</td>\n",
       "    </tr>\n",
       "    <tr>\n",
       "      <th>4</th>\n",
       "      <td>14990</td>\n",
       "      <td>2014-01-01</td>\n",
       "      <td>chrysler 300</td>\n",
       "      <td>excellent</td>\n",
       "      <td>6</td>\n",
       "      <td>gas</td>\n",
       "      <td>57954.000000</td>\n",
       "      <td>automatic</td>\n",
       "      <td>sedan</td>\n",
       "      <td>black</td>\n",
       "      <td>True</td>\n",
       "      <td>2018-06-20</td>\n",
       "      <td>15</td>\n",
       "      <td>2</td>\n",
       "      <td>6</td>\n",
       "      <td>2018</td>\n",
       "      <td>4</td>\n",
       "      <td>14488.0</td>\n",
       "    </tr>\n",
       "  </tbody>\n",
       "</table>\n",
       "</div>"
      ],
      "text/plain": [
       "   price model_year           model  condition  cylinders fuel       odometer  \\\n",
       "0   9400 2011-01-01          bmw x5       good          6  gas  145000.000000   \n",
       "1   5500 2013-01-01  hyundai sonata   like new          4  gas  110000.000000   \n",
       "2   1500 2003-01-01      ford f-150       fair          8  gas  160619.768456   \n",
       "3  14900 2017-01-01    chrysler 200  excellent          4  gas   80903.000000   \n",
       "4  14990 2014-01-01    chrysler 300  excellent          6  gas   57954.000000   \n",
       "\n",
       "  transmission    type paint_color  is_4wd date_posted  days_listed  Weekday  \\\n",
       "0    automatic     SUV       white    True  2018-06-23           19        5   \n",
       "1    automatic   sedan         red   False  2019-02-07           79        3   \n",
       "2    automatic  pickup       white   False  2019-03-22            9        4   \n",
       "3    automatic   sedan       black   False  2019-04-02           28        1   \n",
       "4    automatic   sedan       black    True  2018-06-20           15        2   \n",
       "\n",
       "   month  year  vehicle_age  avg_mile_yearly  \n",
       "0      6  2018            7          20714.0  \n",
       "1      2  2019            6          18333.0  \n",
       "2      3  2019           16          10039.0  \n",
       "3      4  2019            2          40452.0  \n",
       "4      6  2018            4          14488.0  "
      ]
     },
     "execution_count": 267,
     "metadata": {},
     "output_type": "execute_result"
    }
   ],
   "source": [
    "def avg_mile(row):\n",
    "    odo = row['odometer']\n",
    "    age = row['vehicle_age']\n",
    "    \n",
    "    if (age > 0):\n",
    "        return  odo/age \n",
    "    else:\n",
    "        return 0\n",
    "data['avg_mile_yearly'] = data.apply(avg_mile, axis=1)\n",
    "data['avg_mile_yearly'] = data['avg_mile_yearly'].round()\n",
    "data.head()"
   ]
  },
  {
   "cell_type": "markdown",
   "metadata": {},
   "source": [
    "In the **condition** column, I am replace string values with a numeric scale:\n",
    "- new = 5\n",
    "- like new = 4\n",
    "- excellent = 3\n",
    "- good = 2\n",
    "- fair = 1\n",
    "- salvage = 0"
   ]
  },
  {
   "cell_type": "code",
   "execution_count": 268,
   "metadata": {
    "scrolled": true
   },
   "outputs": [
    {
     "data": {
      "text/html": [
       "<div>\n",
       "<style scoped>\n",
       "    .dataframe tbody tr th:only-of-type {\n",
       "        vertical-align: middle;\n",
       "    }\n",
       "\n",
       "    .dataframe tbody tr th {\n",
       "        vertical-align: top;\n",
       "    }\n",
       "\n",
       "    .dataframe thead th {\n",
       "        text-align: right;\n",
       "    }\n",
       "</style>\n",
       "<table border=\"1\" class=\"dataframe\">\n",
       "  <thead>\n",
       "    <tr style=\"text-align: right;\">\n",
       "      <th></th>\n",
       "      <th>price</th>\n",
       "      <th>model_year</th>\n",
       "      <th>model</th>\n",
       "      <th>condition</th>\n",
       "      <th>cylinders</th>\n",
       "      <th>fuel</th>\n",
       "      <th>odometer</th>\n",
       "      <th>transmission</th>\n",
       "      <th>type</th>\n",
       "      <th>paint_color</th>\n",
       "      <th>is_4wd</th>\n",
       "      <th>date_posted</th>\n",
       "      <th>days_listed</th>\n",
       "      <th>Weekday</th>\n",
       "      <th>month</th>\n",
       "      <th>year</th>\n",
       "      <th>vehicle_age</th>\n",
       "      <th>avg_mile_yearly</th>\n",
       "    </tr>\n",
       "  </thead>\n",
       "  <tbody>\n",
       "    <tr>\n",
       "      <th>0</th>\n",
       "      <td>9400</td>\n",
       "      <td>2011-01-01</td>\n",
       "      <td>bmw x5</td>\n",
       "      <td>2</td>\n",
       "      <td>6</td>\n",
       "      <td>gas</td>\n",
       "      <td>145000.000000</td>\n",
       "      <td>automatic</td>\n",
       "      <td>SUV</td>\n",
       "      <td>white</td>\n",
       "      <td>True</td>\n",
       "      <td>2018-06-23</td>\n",
       "      <td>19</td>\n",
       "      <td>5</td>\n",
       "      <td>6</td>\n",
       "      <td>2018</td>\n",
       "      <td>7</td>\n",
       "      <td>20714.0</td>\n",
       "    </tr>\n",
       "    <tr>\n",
       "      <th>1</th>\n",
       "      <td>5500</td>\n",
       "      <td>2013-01-01</td>\n",
       "      <td>hyundai sonata</td>\n",
       "      <td>4</td>\n",
       "      <td>4</td>\n",
       "      <td>gas</td>\n",
       "      <td>110000.000000</td>\n",
       "      <td>automatic</td>\n",
       "      <td>sedan</td>\n",
       "      <td>red</td>\n",
       "      <td>False</td>\n",
       "      <td>2019-02-07</td>\n",
       "      <td>79</td>\n",
       "      <td>3</td>\n",
       "      <td>2</td>\n",
       "      <td>2019</td>\n",
       "      <td>6</td>\n",
       "      <td>18333.0</td>\n",
       "    </tr>\n",
       "    <tr>\n",
       "      <th>2</th>\n",
       "      <td>1500</td>\n",
       "      <td>2003-01-01</td>\n",
       "      <td>ford f-150</td>\n",
       "      <td>1</td>\n",
       "      <td>8</td>\n",
       "      <td>gas</td>\n",
       "      <td>160619.768456</td>\n",
       "      <td>automatic</td>\n",
       "      <td>pickup</td>\n",
       "      <td>white</td>\n",
       "      <td>False</td>\n",
       "      <td>2019-03-22</td>\n",
       "      <td>9</td>\n",
       "      <td>4</td>\n",
       "      <td>3</td>\n",
       "      <td>2019</td>\n",
       "      <td>16</td>\n",
       "      <td>10039.0</td>\n",
       "    </tr>\n",
       "    <tr>\n",
       "      <th>3</th>\n",
       "      <td>14900</td>\n",
       "      <td>2017-01-01</td>\n",
       "      <td>chrysler 200</td>\n",
       "      <td>3</td>\n",
       "      <td>4</td>\n",
       "      <td>gas</td>\n",
       "      <td>80903.000000</td>\n",
       "      <td>automatic</td>\n",
       "      <td>sedan</td>\n",
       "      <td>black</td>\n",
       "      <td>False</td>\n",
       "      <td>2019-04-02</td>\n",
       "      <td>28</td>\n",
       "      <td>1</td>\n",
       "      <td>4</td>\n",
       "      <td>2019</td>\n",
       "      <td>2</td>\n",
       "      <td>40452.0</td>\n",
       "    </tr>\n",
       "    <tr>\n",
       "      <th>4</th>\n",
       "      <td>14990</td>\n",
       "      <td>2014-01-01</td>\n",
       "      <td>chrysler 300</td>\n",
       "      <td>3</td>\n",
       "      <td>6</td>\n",
       "      <td>gas</td>\n",
       "      <td>57954.000000</td>\n",
       "      <td>automatic</td>\n",
       "      <td>sedan</td>\n",
       "      <td>black</td>\n",
       "      <td>True</td>\n",
       "      <td>2018-06-20</td>\n",
       "      <td>15</td>\n",
       "      <td>2</td>\n",
       "      <td>6</td>\n",
       "      <td>2018</td>\n",
       "      <td>4</td>\n",
       "      <td>14488.0</td>\n",
       "    </tr>\n",
       "    <tr>\n",
       "      <th>5</th>\n",
       "      <td>12990</td>\n",
       "      <td>2015-01-01</td>\n",
       "      <td>toyota camry</td>\n",
       "      <td>3</td>\n",
       "      <td>4</td>\n",
       "      <td>gas</td>\n",
       "      <td>79212.000000</td>\n",
       "      <td>automatic</td>\n",
       "      <td>sedan</td>\n",
       "      <td>white</td>\n",
       "      <td>False</td>\n",
       "      <td>2018-12-27</td>\n",
       "      <td>73</td>\n",
       "      <td>3</td>\n",
       "      <td>12</td>\n",
       "      <td>2018</td>\n",
       "      <td>4</td>\n",
       "      <td>19803.0</td>\n",
       "    </tr>\n",
       "    <tr>\n",
       "      <th>6</th>\n",
       "      <td>15990</td>\n",
       "      <td>2013-01-01</td>\n",
       "      <td>honda pilot</td>\n",
       "      <td>3</td>\n",
       "      <td>6</td>\n",
       "      <td>gas</td>\n",
       "      <td>109473.000000</td>\n",
       "      <td>automatic</td>\n",
       "      <td>SUV</td>\n",
       "      <td>black</td>\n",
       "      <td>True</td>\n",
       "      <td>2019-01-07</td>\n",
       "      <td>68</td>\n",
       "      <td>0</td>\n",
       "      <td>1</td>\n",
       "      <td>2019</td>\n",
       "      <td>6</td>\n",
       "      <td>18246.0</td>\n",
       "    </tr>\n",
       "    <tr>\n",
       "      <th>7</th>\n",
       "      <td>11500</td>\n",
       "      <td>2012-01-01</td>\n",
       "      <td>kia sorento</td>\n",
       "      <td>3</td>\n",
       "      <td>4</td>\n",
       "      <td>gas</td>\n",
       "      <td>104174.000000</td>\n",
       "      <td>automatic</td>\n",
       "      <td>SUV</td>\n",
       "      <td>white</td>\n",
       "      <td>True</td>\n",
       "      <td>2018-07-16</td>\n",
       "      <td>19</td>\n",
       "      <td>0</td>\n",
       "      <td>7</td>\n",
       "      <td>2018</td>\n",
       "      <td>7</td>\n",
       "      <td>14882.0</td>\n",
       "    </tr>\n",
       "    <tr>\n",
       "      <th>8</th>\n",
       "      <td>9200</td>\n",
       "      <td>2008-01-01</td>\n",
       "      <td>honda pilot</td>\n",
       "      <td>3</td>\n",
       "      <td>6</td>\n",
       "      <td>gas</td>\n",
       "      <td>147191.000000</td>\n",
       "      <td>automatic</td>\n",
       "      <td>SUV</td>\n",
       "      <td>blue</td>\n",
       "      <td>True</td>\n",
       "      <td>2019-02-15</td>\n",
       "      <td>17</td>\n",
       "      <td>4</td>\n",
       "      <td>2</td>\n",
       "      <td>2019</td>\n",
       "      <td>11</td>\n",
       "      <td>13381.0</td>\n",
       "    </tr>\n",
       "    <tr>\n",
       "      <th>9</th>\n",
       "      <td>19500</td>\n",
       "      <td>2011-01-01</td>\n",
       "      <td>chevrolet silverado 1500</td>\n",
       "      <td>3</td>\n",
       "      <td>8</td>\n",
       "      <td>gas</td>\n",
       "      <td>128413.000000</td>\n",
       "      <td>automatic</td>\n",
       "      <td>pickup</td>\n",
       "      <td>black</td>\n",
       "      <td>True</td>\n",
       "      <td>2018-09-17</td>\n",
       "      <td>38</td>\n",
       "      <td>0</td>\n",
       "      <td>9</td>\n",
       "      <td>2018</td>\n",
       "      <td>8</td>\n",
       "      <td>16052.0</td>\n",
       "    </tr>\n",
       "  </tbody>\n",
       "</table>\n",
       "</div>"
      ],
      "text/plain": [
       "   price model_year                     model  condition  cylinders fuel  \\\n",
       "0   9400 2011-01-01                    bmw x5          2          6  gas   \n",
       "1   5500 2013-01-01            hyundai sonata          4          4  gas   \n",
       "2   1500 2003-01-01                ford f-150          1          8  gas   \n",
       "3  14900 2017-01-01              chrysler 200          3          4  gas   \n",
       "4  14990 2014-01-01              chrysler 300          3          6  gas   \n",
       "5  12990 2015-01-01              toyota camry          3          4  gas   \n",
       "6  15990 2013-01-01               honda pilot          3          6  gas   \n",
       "7  11500 2012-01-01               kia sorento          3          4  gas   \n",
       "8   9200 2008-01-01               honda pilot          3          6  gas   \n",
       "9  19500 2011-01-01  chevrolet silverado 1500          3          8  gas   \n",
       "\n",
       "        odometer transmission    type paint_color  is_4wd date_posted  \\\n",
       "0  145000.000000    automatic     SUV       white    True  2018-06-23   \n",
       "1  110000.000000    automatic   sedan         red   False  2019-02-07   \n",
       "2  160619.768456    automatic  pickup       white   False  2019-03-22   \n",
       "3   80903.000000    automatic   sedan       black   False  2019-04-02   \n",
       "4   57954.000000    automatic   sedan       black    True  2018-06-20   \n",
       "5   79212.000000    automatic   sedan       white   False  2018-12-27   \n",
       "6  109473.000000    automatic     SUV       black    True  2019-01-07   \n",
       "7  104174.000000    automatic     SUV       white    True  2018-07-16   \n",
       "8  147191.000000    automatic     SUV        blue    True  2019-02-15   \n",
       "9  128413.000000    automatic  pickup       black    True  2018-09-17   \n",
       "\n",
       "   days_listed  Weekday  month  year  vehicle_age  avg_mile_yearly  \n",
       "0           19        5      6  2018            7          20714.0  \n",
       "1           79        3      2  2019            6          18333.0  \n",
       "2            9        4      3  2019           16          10039.0  \n",
       "3           28        1      4  2019            2          40452.0  \n",
       "4           15        2      6  2018            4          14488.0  \n",
       "5           73        3     12  2018            4          19803.0  \n",
       "6           68        0      1  2019            6          18246.0  \n",
       "7           19        0      7  2018            7          14882.0  \n",
       "8           17        4      2  2019           11          13381.0  \n",
       "9           38        0      9  2018            8          16052.0  "
      ]
     },
     "execution_count": 268,
     "metadata": {},
     "output_type": "execute_result"
    }
   ],
   "source": [
    "def condition_assign(condition):\n",
    "   \n",
    "    \n",
    "    if condition == 'new':\n",
    "        return 5\n",
    "    \n",
    "    if condition == 'like new':\n",
    "        return 4\n",
    "    \n",
    "    if condition == 'excellent':\n",
    "        return 3\n",
    "    \n",
    "    if condition == 'good':\n",
    "        return 2\n",
    "    \n",
    "    if condition == 'fair':\n",
    "        return 1\n",
    "    \n",
    "    if condition =='salvage':\n",
    "        return 0\n",
    "    \n",
    "\n",
    "data['condition'] = data['condition'].apply(condition_assign)\n",
    "# Print first 10 rows\n",
    "data.head(10)"
   ]
  },
  {
   "cell_type": "code",
   "execution_count": 269,
   "metadata": {},
   "outputs": [],
   "source": [
    "data['condition'] = data['condition'].astype('int64')\n",
    "data['odometer'] = data['odometer'].astype('int64')\n",
    "data['vehicle_age'] = data['vehicle_age'].astype('int64')"
   ]
  },
  {
   "cell_type": "code",
   "execution_count": 270,
   "metadata": {},
   "outputs": [
    {
     "name": "stdout",
     "output_type": "stream",
     "text": [
      "<class 'pandas.core.frame.DataFrame'>\n",
      "RangeIndex: 47904 entries, 0 to 47903\n",
      "Data columns (total 18 columns):\n",
      " #   Column           Non-Null Count  Dtype         \n",
      "---  ------           --------------  -----         \n",
      " 0   price            47904 non-null  int64         \n",
      " 1   model_year       47904 non-null  datetime64[ns]\n",
      " 2   model            47904 non-null  object        \n",
      " 3   condition        47904 non-null  int64         \n",
      " 4   cylinders        47904 non-null  int32         \n",
      " 5   fuel             47904 non-null  object        \n",
      " 6   odometer         47904 non-null  int64         \n",
      " 7   transmission     47904 non-null  object        \n",
      " 8   type             47904 non-null  object        \n",
      " 9   paint_color      47904 non-null  object        \n",
      " 10  is_4wd           47904 non-null  bool          \n",
      " 11  date_posted      47904 non-null  datetime64[ns]\n",
      " 12  days_listed      47904 non-null  int64         \n",
      " 13  Weekday          47904 non-null  int64         \n",
      " 14  month            47904 non-null  int64         \n",
      " 15  year             47904 non-null  int64         \n",
      " 16  vehicle_age      47904 non-null  int64         \n",
      " 17  avg_mile_yearly  47904 non-null  float64       \n",
      "dtypes: bool(1), datetime64[ns](2), float64(1), int32(1), int64(8), object(5)\n",
      "memory usage: 6.1+ MB\n"
     ]
    }
   ],
   "source": [
    "data.info()"
   ]
  },
  {
   "cell_type": "markdown",
   "metadata": {},
   "source": [
    "### Conclusion\n",
    "1. I calculated the following items and added to the table:\n",
    "- Day of the week, month, and year the ad was placed\n",
    "- The vehicle's age (in years) when the ad was placed\n",
    "- The vehicle's average mileage per year\n",
    "2. I filled in missing values in odometer by mean value of odometer grouped by vehicle's age\n",
    "3. In the condition column, I replaceed string values with a numeric scale:\n",
    "- new = 5\n",
    "- like new = 4\n",
    "- excellent = 3\n",
    "- good = 2\n",
    "- fair = 1\n",
    "- salvage = 0\n",
    "4. Finally changed some column's datatypes into appropriate format \n",
    "- **vehicle's age** from float to integer\n",
    "- **odometer** from float to integer\n",
    "- **condition** from float to integer"
   ]
  },
  {
   "cell_type": "markdown",
   "metadata": {},
   "source": [
    "# Step 4. Exploratory Data Analysis"
   ]
  },
  {
   "cell_type": "code",
   "execution_count": 271,
   "metadata": {
    "scrolled": true
   },
   "outputs": [
    {
     "data": {
      "text/html": [
       "<div>\n",
       "<style scoped>\n",
       "    .dataframe tbody tr th:only-of-type {\n",
       "        vertical-align: middle;\n",
       "    }\n",
       "\n",
       "    .dataframe tbody tr th {\n",
       "        vertical-align: top;\n",
       "    }\n",
       "\n",
       "    .dataframe thead th {\n",
       "        text-align: right;\n",
       "    }\n",
       "</style>\n",
       "<table border=\"1\" class=\"dataframe\">\n",
       "  <thead>\n",
       "    <tr style=\"text-align: right;\">\n",
       "      <th></th>\n",
       "      <th>price</th>\n",
       "      <th>model_year</th>\n",
       "      <th>model</th>\n",
       "      <th>condition</th>\n",
       "      <th>cylinders</th>\n",
       "      <th>fuel</th>\n",
       "      <th>odometer</th>\n",
       "      <th>transmission</th>\n",
       "      <th>type</th>\n",
       "      <th>paint_color</th>\n",
       "      <th>is_4wd</th>\n",
       "      <th>date_posted</th>\n",
       "      <th>days_listed</th>\n",
       "      <th>Weekday</th>\n",
       "      <th>month</th>\n",
       "      <th>year</th>\n",
       "      <th>vehicle_age</th>\n",
       "      <th>avg_mile_yearly</th>\n",
       "    </tr>\n",
       "  </thead>\n",
       "  <tbody>\n",
       "    <tr>\n",
       "      <th>0</th>\n",
       "      <td>9400</td>\n",
       "      <td>2011-01-01</td>\n",
       "      <td>bmw x5</td>\n",
       "      <td>2</td>\n",
       "      <td>6</td>\n",
       "      <td>gas</td>\n",
       "      <td>145000</td>\n",
       "      <td>automatic</td>\n",
       "      <td>SUV</td>\n",
       "      <td>white</td>\n",
       "      <td>True</td>\n",
       "      <td>2018-06-23</td>\n",
       "      <td>19</td>\n",
       "      <td>5</td>\n",
       "      <td>6</td>\n",
       "      <td>2018</td>\n",
       "      <td>7</td>\n",
       "      <td>20714.0</td>\n",
       "    </tr>\n",
       "    <tr>\n",
       "      <th>1</th>\n",
       "      <td>5500</td>\n",
       "      <td>2013-01-01</td>\n",
       "      <td>hyundai sonata</td>\n",
       "      <td>4</td>\n",
       "      <td>4</td>\n",
       "      <td>gas</td>\n",
       "      <td>110000</td>\n",
       "      <td>automatic</td>\n",
       "      <td>sedan</td>\n",
       "      <td>red</td>\n",
       "      <td>False</td>\n",
       "      <td>2019-02-07</td>\n",
       "      <td>79</td>\n",
       "      <td>3</td>\n",
       "      <td>2</td>\n",
       "      <td>2019</td>\n",
       "      <td>6</td>\n",
       "      <td>18333.0</td>\n",
       "    </tr>\n",
       "    <tr>\n",
       "      <th>2</th>\n",
       "      <td>1500</td>\n",
       "      <td>2003-01-01</td>\n",
       "      <td>ford f-150</td>\n",
       "      <td>1</td>\n",
       "      <td>8</td>\n",
       "      <td>gas</td>\n",
       "      <td>160619</td>\n",
       "      <td>automatic</td>\n",
       "      <td>pickup</td>\n",
       "      <td>white</td>\n",
       "      <td>False</td>\n",
       "      <td>2019-03-22</td>\n",
       "      <td>9</td>\n",
       "      <td>4</td>\n",
       "      <td>3</td>\n",
       "      <td>2019</td>\n",
       "      <td>16</td>\n",
       "      <td>10039.0</td>\n",
       "    </tr>\n",
       "    <tr>\n",
       "      <th>3</th>\n",
       "      <td>14900</td>\n",
       "      <td>2017-01-01</td>\n",
       "      <td>chrysler 200</td>\n",
       "      <td>3</td>\n",
       "      <td>4</td>\n",
       "      <td>gas</td>\n",
       "      <td>80903</td>\n",
       "      <td>automatic</td>\n",
       "      <td>sedan</td>\n",
       "      <td>black</td>\n",
       "      <td>False</td>\n",
       "      <td>2019-04-02</td>\n",
       "      <td>28</td>\n",
       "      <td>1</td>\n",
       "      <td>4</td>\n",
       "      <td>2019</td>\n",
       "      <td>2</td>\n",
       "      <td>40452.0</td>\n",
       "    </tr>\n",
       "    <tr>\n",
       "      <th>4</th>\n",
       "      <td>14990</td>\n",
       "      <td>2014-01-01</td>\n",
       "      <td>chrysler 300</td>\n",
       "      <td>3</td>\n",
       "      <td>6</td>\n",
       "      <td>gas</td>\n",
       "      <td>57954</td>\n",
       "      <td>automatic</td>\n",
       "      <td>sedan</td>\n",
       "      <td>black</td>\n",
       "      <td>True</td>\n",
       "      <td>2018-06-20</td>\n",
       "      <td>15</td>\n",
       "      <td>2</td>\n",
       "      <td>6</td>\n",
       "      <td>2018</td>\n",
       "      <td>4</td>\n",
       "      <td>14488.0</td>\n",
       "    </tr>\n",
       "  </tbody>\n",
       "</table>\n",
       "</div>"
      ],
      "text/plain": [
       "   price model_year           model  condition  cylinders fuel  odometer  \\\n",
       "0   9400 2011-01-01          bmw x5          2          6  gas    145000   \n",
       "1   5500 2013-01-01  hyundai sonata          4          4  gas    110000   \n",
       "2   1500 2003-01-01      ford f-150          1          8  gas    160619   \n",
       "3  14900 2017-01-01    chrysler 200          3          4  gas     80903   \n",
       "4  14990 2014-01-01    chrysler 300          3          6  gas     57954   \n",
       "\n",
       "  transmission    type paint_color  is_4wd date_posted  days_listed  Weekday  \\\n",
       "0    automatic     SUV       white    True  2018-06-23           19        5   \n",
       "1    automatic   sedan         red   False  2019-02-07           79        3   \n",
       "2    automatic  pickup       white   False  2019-03-22            9        4   \n",
       "3    automatic   sedan       black   False  2019-04-02           28        1   \n",
       "4    automatic   sedan       black    True  2018-06-20           15        2   \n",
       "\n",
       "   month  year  vehicle_age  avg_mile_yearly  \n",
       "0      6  2018            7          20714.0  \n",
       "1      2  2019            6          18333.0  \n",
       "2      3  2019           16          10039.0  \n",
       "3      4  2019            2          40452.0  \n",
       "4      6  2018            4          14488.0  "
      ]
     },
     "execution_count": 271,
     "metadata": {},
     "output_type": "execute_result"
    }
   ],
   "source": [
    "data.head()"
   ]
  },
  {
   "cell_type": "markdown",
   "metadata": {},
   "source": [
    "#### Studying the following parameters: price, vehicle's age when the ad was placed, mileage, number of cylinders, and condition. Plotting histograms for each of these parameters. Studying how outliers affect the form and readability of the histograms."
   ]
  },
  {
   "cell_type": "code",
   "execution_count": 272,
   "metadata": {
    "scrolled": false
   },
   "outputs": [
    {
     "data": {
      "text/plain": [
       "Text(0.5, 1.0, 'Price distribution of the vehicle')"
      ]
     },
     "execution_count": 272,
     "metadata": {},
     "output_type": "execute_result"
    },
    {
     "data": {
      "image/png": "[encoded data removed]",
      "text/plain": [
       "<Figure size 504x504 with 1 Axes>"
      ]
     },
     "metadata": {
      "needs_background": "light"
     },
     "output_type": "display_data"
    }
   ],
   "source": [
    "import matplotlib.pyplot as plt\n",
    "data['price'].hist(figsize=(7,7),bins=100, color=\"orange\")\n",
    "plt.xlabel(\"Price\")\n",
    "plt.ylabel(\"Number of vehicles\")\n",
    "plt.title('Price distribution of the vehicle')"
   ]
  },
  {
   "cell_type": "code",
   "execution_count": 273,
   "metadata": {
    "scrolled": true
   },
   "outputs": [
    {
     "data": {
      "text/plain": [
       "Text(0.5, 1.0, 'Age distribution of the vehicle')"
      ]
     },
     "execution_count": 273,
     "metadata": {},
     "output_type": "execute_result"
    },
    {
     "data": {
      "image/png": "[encoded data removed]",
      "text/plain": [
       "<Figure size 504x504 with 1 Axes>"
      ]
     },
     "metadata": {
      "needs_background": "light"
     },
     "output_type": "display_data"
    }
   ],
   "source": [
    "data['vehicle_age'].hist(figsize=(7,7),bins=100, color=\"red\")\n",
    "plt.xlabel(\"Age (in yrs)\")\n",
    "plt.ylabel(\"Number of vehicles\")\n",
    "plt.title('Age distribution of the vehicle')"
   ]
  },
  {
   "cell_type": "code",
   "execution_count": 274,
   "metadata": {},
   "outputs": [
    {
     "data": {
      "text/plain": [
       "Text(0.5, 1.0, 'Mileage distribution of the vehicle')"
      ]
     },
     "execution_count": 274,
     "metadata": {},
     "output_type": "execute_result"
    },
    {
     "data": {
      "image/png": "[encoded data removed]",
      "text/plain": [
       "<Figure size 576x576 with 1 Axes>"
      ]
     },
     "metadata": {
      "needs_background": "light"
     },
     "output_type": "display_data"
    }
   ],
   "source": [
    "data['odometer'].hist(figsize=(8,8),bins=100, range=(0,600000), color=\"blue\")\n",
    "plt.xlabel(\"Mileage\")\n",
    "plt.ylabel(\"Number of vehicles\")\n",
    "plt.title('Mileage distribution of the vehicle')"
   ]
  },
  {
   "cell_type": "code",
   "execution_count": 275,
   "metadata": {},
   "outputs": [
    {
     "data": {
      "text/plain": [
       "Text(0.5, 1.0, 'Cylinders distribution of the vehicle')"
      ]
     },
     "execution_count": 275,
     "metadata": {},
     "output_type": "execute_result"
    },
    {
     "data": {
      "image/png": "[encoded data removed]",
      "text/plain": [
       "<Figure size 504x504 with 1 Axes>"
      ]
     },
     "metadata": {
      "needs_background": "light"
     },
     "output_type": "display_data"
    }
   ],
   "source": [
    "data['cylinders'].hist(figsize=(7,7),bins=100, color=\"green\")\n",
    "plt.xlabel(\"Number of Cylinders\")\n",
    "plt.ylabel(\"Number of vehicles\")\n",
    "plt.title('Cylinders distribution of the vehicle')"
   ]
  },
  {
   "cell_type": "code",
   "execution_count": 276,
   "metadata": {},
   "outputs": [
    {
     "data": {
      "text/plain": [
       "Text(0.5, 1.0, 'Condition distribution of the vehicle')"
      ]
     },
     "execution_count": 276,
     "metadata": {},
     "output_type": "execute_result"
    },
    {
     "data": {
      "image/png": "[encoded data removed]",
      "text/plain": [
       "<Figure size 504x504 with 1 Axes>"
      ]
     },
     "metadata": {
      "needs_background": "light"
     },
     "output_type": "display_data"
    }
   ],
   "source": [
    "data['condition'].hist(figsize=(7,7),bins=100)\n",
    "plt.xlabel(\"condition of vehicle\")\n",
    "plt.ylabel(\"Number of vehicles\")\n",
    "plt.title('Condition distribution of the vehicle')"
   ]
  },
  {
   "cell_type": "markdown",
   "metadata": {},
   "source": [
    "- Observing the data distribution above, we can see many outliers especially in price, odometer and age. There seem to be more outliers in upper limit as it is right-skewed distribution (That means more outliers in higher values). Therefore  Now I am going to calculate upper limit outliers and remove them from our dataset."
   ]
  },
  {
   "cell_type": "markdown",
   "metadata": {},
   "source": [
    "#### Finding Upper Limit Outliers"
   ]
  },
  {
   "cell_type": "code",
   "execution_count": 277,
   "metadata": {},
   "outputs": [
    {
     "name": "stdout",
     "output_type": "stream",
     "text": [
      "Upper Limit Outlier for Vehicle's 'Price': 34750.0\n",
      "Upper Limit Outlier for Vehicle's 'Odometer': 273505.375\n",
      "Upper Limit Outlier for Vehicle's 'Age': 25.0\n",
      "Upper Limit Outlier for Vehicle's 'Cylinders': 14.0\n"
     ]
    }
   ],
   "source": [
    "price_q1=data['price'].quantile(0.25)\n",
    "price_q3=data['price'].quantile(0.75)\n",
    "price_IQR=price_q3-price_q1\n",
    "price_upperlimit=price_q3 + 1.5 *price_IQR\n",
    "print(\"Upper Limit Outlier for Vehicle's 'Price':\",price_upperlimit)\n",
    "\n",
    "odo_q1=data['odometer'].quantile(0.25)\n",
    "odo_q3=data['odometer'].quantile(0.75)\n",
    "odo_IQR=odo_q3-odo_q1\n",
    "odo_upperlimit=odo_q3 + 1.5 *odo_IQR\n",
    "print(\"Upper Limit Outlier for Vehicle's 'Odometer':\",odo_upperlimit)\n",
    "\n",
    "age_q1=data['vehicle_age'].quantile(0.25)\n",
    "age_q3=data['vehicle_age'].quantile(0.75)\n",
    "age_IQR=age_q3-age_q1\n",
    "age_upperlimit=age_q3 + 1.5 *age_IQR\n",
    "print(\"Upper Limit Outlier for Vehicle's 'Age':\",age_upperlimit)\n",
    "\n",
    "cyl_q1=data['cylinders'].quantile(0.25)\n",
    "cyl_q3=data['cylinders'].quantile(0.75)\n",
    "cyl_IQR=cyl_q3-cyl_q1\n",
    "cyl_upperlimit=cyl_q3 + 1.5 *cyl_IQR\n",
    "print(\"Upper Limit Outlier for Vehicle's 'Cylinders':\",cyl_upperlimit)\n",
    "\n"
   ]
  },
  {
   "cell_type": "markdown",
   "metadata": {},
   "source": [
    "#### Removing the outliers and store data in a separate DataFrame, and continuing work with the filtered data."
   ]
  },
  {
   "cell_type": "code",
   "execution_count": 278,
   "metadata": {},
   "outputs": [
    {
     "name": "stdout",
     "output_type": "stream",
     "text": [
      "(45056, 18) (2848, 18)\n"
     ]
    }
   ],
   "source": [
    "\n",
    "data_no_outliers = data[(data['price'] < price_upperlimit) & (data['vehicle_age'] < age_upperlimit) & (data['odometer'] < odo_upperlimit) & (data['cylinders'] < cyl_upperlimit)]\n",
    "data_yes_outliers = data[~((data['price'] < price_upperlimit) & (data['vehicle_age'] < age_upperlimit) & (data['odometer'] < odo_upperlimit)& (data['cylinders'] < cyl_upperlimit))]\n",
    "print(data_no_outliers.shape,data_yes_outliers.shape)"
   ]
  },
  {
   "cell_type": "code",
   "execution_count": 279,
   "metadata": {},
   "outputs": [
    {
     "name": "stdout",
     "output_type": "stream",
     "text": [
      "We removed 2848 outliers from the dataset.\n"
     ]
    }
   ],
   "source": [
    "print(\"We removed\", data_yes_outliers.shape[0],\"outliers from the dataset.\")"
   ]
  },
  {
   "cell_type": "markdown",
   "metadata": {},
   "source": [
    "#### Plotting histogram with filtered dataset"
   ]
  },
  {
   "cell_type": "code",
   "execution_count": 280,
   "metadata": {
    "scrolled": true
   },
   "outputs": [
    {
     "data": {
      "text/plain": [
       "Text(0.5, 1.0, 'Price distribution of the vehicle after removing outliers')"
      ]
     },
     "execution_count": 280,
     "metadata": {},
     "output_type": "execute_result"
    },
    {
     "data": {
      "image/png": "[encoded data removed]",
      "text/plain": [
       "<Figure size 720x720 with 1 Axes>"
      ]
     },
     "metadata": {
      "needs_background": "light"
     },
     "output_type": "display_data"
    }
   ],
   "source": [
    "import matplotlib.pyplot as plt\n",
    "data_no_outliers['price'].hist(figsize=(10,10),bins=100, color=\"orange\")\n",
    "plt.xlabel(\"Price\")\n",
    "plt.ylabel(\"Number of vehicles\")\n",
    "plt.title('Price distribution of the vehicle after removing outliers')"
   ]
  },
  {
   "cell_type": "code",
   "execution_count": 281,
   "metadata": {},
   "outputs": [
    {
     "data": {
      "text/plain": [
       "Text(0.5, 1.0, 'Age distribution of the vehicle after removing outliers')"
      ]
     },
     "execution_count": 281,
     "metadata": {},
     "output_type": "execute_result"
    },
    {
     "data": {
      "image/png": "[encoded data removed]",
      "text/plain": [
       "<Figure size 504x504 with 1 Axes>"
      ]
     },
     "metadata": {
      "needs_background": "light"
     },
     "output_type": "display_data"
    }
   ],
   "source": [
    "data_no_outliers['vehicle_age'].hist(figsize=(7,7),bins=100, color=\"red\")\n",
    "plt.xlabel(\"Age (in yrs)\")\n",
    "plt.ylabel(\"Number of vehicles\")\n",
    "plt.title('Age distribution of the vehicle after removing outliers')"
   ]
  },
  {
   "cell_type": "code",
   "execution_count": 282,
   "metadata": {},
   "outputs": [
    {
     "data": {
      "text/plain": [
       "Text(0.5, 1.0, 'Mileage distribution of the vehicle after removing outliers')"
      ]
     },
     "execution_count": 282,
     "metadata": {},
     "output_type": "execute_result"
    },
    {
     "data": {
      "image/png": "[encoded data removed]",
      "text/plain": [
       "<Figure size 576x576 with 1 Axes>"
      ]
     },
     "metadata": {
      "needs_background": "light"
     },
     "output_type": "display_data"
    }
   ],
   "source": [
    "data_no_outliers['odometer'].hist(figsize=(8,8),bins=100, color=\"blue\")\n",
    "plt.xlabel(\"Mileage\")\n",
    "plt.ylabel(\"Number of vehicles\")\n",
    "plt.title('Mileage distribution of the vehicle after removing outliers')"
   ]
  },
  {
   "cell_type": "code",
   "execution_count": 283,
   "metadata": {},
   "outputs": [
    {
     "data": {
      "text/plain": [
       "Text(0.5, 1.0, 'Cylinders distribution of the vehicle after removing outliers')"
      ]
     },
     "execution_count": 283,
     "metadata": {},
     "output_type": "execute_result"
    },
    {
     "data": {
      "image/png": "[encoded data removed]",
      "text/plain": [
       "<Figure size 504x504 with 1 Axes>"
      ]
     },
     "metadata": {
      "needs_background": "light"
     },
     "output_type": "display_data"
    }
   ],
   "source": [
    "data_no_outliers['cylinders'].hist(figsize=(7,7),bins=100, color=\"green\")\n",
    "plt.xlabel(\"Number of Cylinders\")\n",
    "plt.ylabel(\"Number of vehicles\")\n",
    "plt.title('Cylinders distribution of the vehicle after removing outliers')"
   ]
  },
  {
   "cell_type": "markdown",
   "metadata": {},
   "source": [
    "Comparing to previous histograms, new one with no outliers look more evenly distributed. For instance,\n",
    "- Price, vehicle's age and cylinders are right_skewed distribution\n",
    "- odometer is comb distribution\n",
    "\n"
   ]
  },
  {
   "cell_type": "code",
   "execution_count": 284,
   "metadata": {},
   "outputs": [
    {
     "name": "stdout",
     "output_type": "stream",
     "text": [
      "mean:  39.55930397727273 \tmedian 33.0\n"
     ]
    },
    {
     "data": {
      "image/png": "[encoded data removed]",
      "text/plain": [
       "<Figure size 1152x504 with 1 Axes>"
      ]
     },
     "metadata": {
      "needs_background": "light"
     },
     "output_type": "display_data"
    }
   ],
   "source": [
    "data_no_outliers.hist(column='days_listed', figsize=(16,7), bins=100)\n",
    "print(\"mean: \", data_no_outliers['days_listed'].mean(), \"\\tmedian\", data_no_outliers['days_listed'].median())"
   ]
  },
  {
   "cell_type": "markdown",
   "metadata": {},
   "source": [
    "The ads for vehicles were displayed for 39 mean days and 33 median days. We can say that typically ads were on site for a month in average."
   ]
  },
  {
   "cell_type": "markdown",
   "metadata": {},
   "source": [
    "#### Analyzing the number of ads and average price for each type of vehicles"
   ]
  },
  {
   "cell_type": "code",
   "execution_count": 285,
   "metadata": {},
   "outputs": [
    {
     "data": {
      "text/html": [
       "<div>\n",
       "<style scoped>\n",
       "    .dataframe tbody tr th:only-of-type {\n",
       "        vertical-align: middle;\n",
       "    }\n",
       "\n",
       "    .dataframe tbody tr th {\n",
       "        vertical-align: top;\n",
       "    }\n",
       "\n",
       "    .dataframe thead th {\n",
       "        text-align: right;\n",
       "    }\n",
       "</style>\n",
       "<table border=\"1\" class=\"dataframe\">\n",
       "  <thead>\n",
       "    <tr style=\"text-align: right;\">\n",
       "      <th></th>\n",
       "      <th>price</th>\n",
       "    </tr>\n",
       "    <tr>\n",
       "      <th>type</th>\n",
       "      <th></th>\n",
       "    </tr>\n",
       "  </thead>\n",
       "  <tbody>\n",
       "    <tr>\n",
       "      <th>bus</th>\n",
       "      <td>17761.636364</td>\n",
       "    </tr>\n",
       "    <tr>\n",
       "      <th>truck</th>\n",
       "      <td>15098.063084</td>\n",
       "    </tr>\n",
       "  </tbody>\n",
       "</table>\n",
       "</div>"
      ],
      "text/plain": [
       "              price\n",
       "type               \n",
       "bus    17761.636364\n",
       "truck  15098.063084"
      ]
     },
     "metadata": {},
     "output_type": "display_data"
    },
    {
     "data": {
      "text/html": [
       "<div>\n",
       "<style scoped>\n",
       "    .dataframe tbody tr th:only-of-type {\n",
       "        vertical-align: middle;\n",
       "    }\n",
       "\n",
       "    .dataframe tbody tr th {\n",
       "        vertical-align: top;\n",
       "    }\n",
       "\n",
       "    .dataframe thead th {\n",
       "        text-align: right;\n",
       "    }\n",
       "</style>\n",
       "<table border=\"1\" class=\"dataframe\">\n",
       "  <thead>\n",
       "    <tr style=\"text-align: right;\">\n",
       "      <th></th>\n",
       "      <th>condition</th>\n",
       "    </tr>\n",
       "    <tr>\n",
       "      <th>type</th>\n",
       "      <th></th>\n",
       "    </tr>\n",
       "  </thead>\n",
       "  <tbody>\n",
       "    <tr>\n",
       "      <th>sedan</th>\n",
       "      <td>11194</td>\n",
       "    </tr>\n",
       "    <tr>\n",
       "      <th>SUV</th>\n",
       "      <td>11060</td>\n",
       "    </tr>\n",
       "  </tbody>\n",
       "</table>\n",
       "</div>"
      ],
      "text/plain": [
       "       condition\n",
       "type            \n",
       "sedan      11194\n",
       "SUV        11060"
      ]
     },
     "metadata": {},
     "output_type": "display_data"
    },
    {
     "data": {
      "image/png": "[encoded data removed]",
      "text/plain": [
       "<Figure size 1152x504 with 1 Axes>"
      ]
     },
     "metadata": {
      "needs_background": "light"
     },
     "output_type": "display_data"
    },
    {
     "data": {
      "image/png": "[encoded data removed]",
      "text/plain": [
       "<Figure size 1152x504 with 1 Axes>"
      ]
     },
     "metadata": {
      "needs_background": "light"
     },
     "output_type": "display_data"
    }
   ],
   "source": [
    "def plot_bar(data, x,y, func):\n",
    "    title = str(func) + \"(\" + str(y) + \") vs. \" + x\n",
    "    data_plot = data.pivot_table(index=[x], values=[y], aggfunc=func)\n",
    "    data_plot.sort_values(by=y, ascending=False).plot(kind='bar',figsize=(16,7),title=title)\n",
    "    data_new= data_plot.sort_values(by=y, ascending=False).head(2)\n",
    "    display(data_new)\n",
    "    return data_new\n",
    "data_mean_price = plot_bar(data_no_outliers, 'type','price','mean')\n",
    "data_popular = plot_bar(data_no_outliers,'type','condition','count')"
   ]
  },
  {
   "cell_type": "markdown",
   "metadata": {},
   "source": [
    "- **Bus** (avg price: 17761) and **Truck** (avg price:15098) are the most expensive vehicles listed.\n",
    "\n",
    "- **Sedan** (11194) and **SUV** (11060) are most listed vehicles in the website.\n",
    "- **Bus** are the most expensive and the least listed vehicles.\n",
    "- **Sedan** are the most listed type vehicle."
   ]
  },
  {
   "cell_type": "markdown",
   "metadata": {},
   "source": [
    "#### Number of Ads and average price for each model of vehicles."
   ]
  },
  {
   "cell_type": "code",
   "execution_count": 286,
   "metadata": {
    "scrolled": false
   },
   "outputs": [
    {
     "data": {
      "text/html": [
       "<div>\n",
       "<style scoped>\n",
       "    .dataframe tbody tr th:only-of-type {\n",
       "        vertical-align: middle;\n",
       "    }\n",
       "\n",
       "    .dataframe tbody tr th {\n",
       "        vertical-align: top;\n",
       "    }\n",
       "\n",
       "    .dataframe thead th {\n",
       "        text-align: right;\n",
       "    }\n",
       "</style>\n",
       "<table border=\"1\" class=\"dataframe\">\n",
       "  <thead>\n",
       "    <tr style=\"text-align: right;\">\n",
       "      <th></th>\n",
       "      <th>price</th>\n",
       "    </tr>\n",
       "    <tr>\n",
       "      <th>model</th>\n",
       "      <th></th>\n",
       "    </tr>\n",
       "  </thead>\n",
       "  <tbody>\n",
       "    <tr>\n",
       "      <th>chevrolet silverado 1500 crew</th>\n",
       "      <td>28436.770428</td>\n",
       "    </tr>\n",
       "    <tr>\n",
       "      <th>ford mustang gt coupe 2d</th>\n",
       "      <td>25062.585106</td>\n",
       "    </tr>\n",
       "  </tbody>\n",
       "</table>\n",
       "</div>"
      ],
      "text/plain": [
       "                                      price\n",
       "model                                      \n",
       "chevrolet silverado 1500 crew  28436.770428\n",
       "ford mustang gt coupe 2d       25062.585106"
      ]
     },
     "metadata": {},
     "output_type": "display_data"
    },
    {
     "data": {
      "text/html": [
       "<div>\n",
       "<style scoped>\n",
       "    .dataframe tbody tr th:only-of-type {\n",
       "        vertical-align: middle;\n",
       "    }\n",
       "\n",
       "    .dataframe tbody tr th {\n",
       "        vertical-align: top;\n",
       "    }\n",
       "\n",
       "    .dataframe thead th {\n",
       "        text-align: right;\n",
       "    }\n",
       "</style>\n",
       "<table border=\"1\" class=\"dataframe\">\n",
       "  <thead>\n",
       "    <tr style=\"text-align: right;\">\n",
       "      <th></th>\n",
       "      <th>condition</th>\n",
       "    </tr>\n",
       "    <tr>\n",
       "      <th>model</th>\n",
       "      <th></th>\n",
       "    </tr>\n",
       "  </thead>\n",
       "  <tbody>\n",
       "    <tr>\n",
       "      <th>ford f-150</th>\n",
       "      <td>2443</td>\n",
       "    </tr>\n",
       "    <tr>\n",
       "      <th>chevrolet silverado 1500</th>\n",
       "      <td>1900</td>\n",
       "    </tr>\n",
       "  </tbody>\n",
       "</table>\n",
       "</div>"
      ],
      "text/plain": [
       "                          condition\n",
       "model                              \n",
       "ford f-150                     2443\n",
       "chevrolet silverado 1500       1900"
      ]
     },
     "metadata": {},
     "output_type": "display_data"
    },
    {
     "data": {
      "image/png": "[encoded data removed]",
      "text/plain": [
       "<Figure size 1152x504 with 1 Axes>"
      ]
     },
     "metadata": {
      "needs_background": "light"
     },
     "output_type": "display_data"
    },
    {
     "data": {
      "image/png": "[encoded data removed]",
      "text/plain": [
       "<Figure size 1152x504 with 1 Axes>"
      ]
     },
     "metadata": {
      "needs_background": "light"
     },
     "output_type": "display_data"
    }
   ],
   "source": [
    "df_mean_price_model = plot_bar(data_no_outliers,'model','price','mean')\n",
    "df_popular_model = plot_bar(data_no_outliers,'model','condition','count')"
   ]
  },
  {
   "cell_type": "markdown",
   "metadata": {},
   "source": [
    "- **chevrolet silverado 1500 crew** are the most expensive model of vehicles listed.\n",
    "- **ford f-150** are the most listed model of vehicle listed."
   ]
  },
  {
   "cell_type": "markdown",
   "metadata": {},
   "source": [
    "#### Determining the dependencies of price with other factors"
   ]
  },
  {
   "cell_type": "code",
   "execution_count": 287,
   "metadata": {},
   "outputs": [
    {
     "data": {
      "text/html": [
       "<div>\n",
       "<style scoped>\n",
       "    .dataframe tbody tr th:only-of-type {\n",
       "        vertical-align: middle;\n",
       "    }\n",
       "\n",
       "    .dataframe tbody tr th {\n",
       "        vertical-align: top;\n",
       "    }\n",
       "\n",
       "    .dataframe thead th {\n",
       "        text-align: right;\n",
       "    }\n",
       "</style>\n",
       "<table border=\"1\" class=\"dataframe\">\n",
       "  <thead>\n",
       "    <tr style=\"text-align: right;\">\n",
       "      <th></th>\n",
       "      <th>condition</th>\n",
       "    </tr>\n",
       "    <tr>\n",
       "      <th>type</th>\n",
       "      <th></th>\n",
       "    </tr>\n",
       "  </thead>\n",
       "  <tbody>\n",
       "    <tr>\n",
       "      <th>sedan</th>\n",
       "      <td>11194</td>\n",
       "    </tr>\n",
       "    <tr>\n",
       "      <th>SUV</th>\n",
       "      <td>11060</td>\n",
       "    </tr>\n",
       "  </tbody>\n",
       "</table>\n",
       "</div>"
      ],
      "text/plain": [
       "       condition\n",
       "type            \n",
       "sedan      11194\n",
       "SUV        11060"
      ]
     },
     "execution_count": 287,
     "metadata": {},
     "output_type": "execute_result"
    }
   ],
   "source": [
    "data_popular"
   ]
  },
  {
   "cell_type": "markdown",
   "metadata": {},
   "source": [
    "#### Studying the Relationship between Price and other Factors for \"Sedan\""
   ]
  },
  {
   "cell_type": "code",
   "execution_count": 288,
   "metadata": {
    "scrolled": true
   },
   "outputs": [
    {
     "data": {
      "text/plain": [
       "Text(0.5, 1.0, 'Relationship between Price and Odometer for Sedan')"
      ]
     },
     "execution_count": 288,
     "metadata": {},
     "output_type": "execute_result"
    },
    {
     "data": {
      "image/png": "[encoded data removed]",
      "text/plain": [
       "<Figure size 432x288 with 1 Axes>"
      ]
     },
     "metadata": {
      "needs_background": "light"
     },
     "output_type": "display_data"
    }
   ],
   "source": [
    "#Filtering out only data with Sedan\n",
    "sedan_data = data_no_outliers.query('type == \"sedan\"')\n",
    "\n",
    "sedan_data.plot.scatter(x='odometer',y='price',grid=True, color='purple')\n",
    "plt.xlabel(\"Odometer\")\n",
    "plt.ylabel(\"Price\")\n",
    "plt.title('Relationship between Price and Odometer for Sedan')"
   ]
  },
  {
   "cell_type": "markdown",
   "metadata": {},
   "source": [
    "- We see as **odometer** or **mileage** goes up, the prices of the vehicles goes down and vice-versa. So,there is negative correlation between price and odometer for **Sedan**."
   ]
  },
  {
   "cell_type": "code",
   "execution_count": 289,
   "metadata": {},
   "outputs": [
    {
     "data": {
      "text/plain": [
       "Text(0.5, 1.0, 'Relationship between Price and Age for Sedan')"
      ]
     },
     "execution_count": 289,
     "metadata": {},
     "output_type": "execute_result"
    },
    {
     "data": {
      "image/png": "[encoded data removed]",
      "text/plain": [
       "<Figure size 432x288 with 1 Axes>"
      ]
     },
     "metadata": {
      "needs_background": "light"
     },
     "output_type": "display_data"
    }
   ],
   "source": [
    "sedan_data.plot.scatter(x='vehicle_age',y='price',grid=True, color='orange')\n",
    "plt.xlabel(\"Age\")\n",
    "plt.ylabel(\"Price\")\n",
    "plt.title('Relationship between Price and Age for Sedan')"
   ]
  },
  {
   "cell_type": "markdown",
   "metadata": {},
   "source": [
    "- We see as **age** of vehicle increases the **price** of sedan decreases and vice-versa. So,there is negative correlation between **price** and **vehicle_age** for **Sedan**."
   ]
  },
  {
   "cell_type": "code",
   "execution_count": 290,
   "metadata": {},
   "outputs": [
    {
     "data": {
      "text/plain": [
       "Text(0.5, 1.0, 'Relationship between Price and Conditions for Sedan')"
      ]
     },
     "execution_count": 290,
     "metadata": {},
     "output_type": "execute_result"
    },
    {
     "data": {
      "image/png": "[encoded data removed]",
      "text/plain": [
       "<Figure size 432x288 with 1 Axes>"
      ]
     },
     "metadata": {
      "needs_background": "light"
     },
     "output_type": "display_data"
    }
   ],
   "source": [
    "sedan_data.plot.scatter(x='condition',y='price',grid=True, color='green')\n",
    "plt.xlabel(\"Condition\")\n",
    "plt.ylabel(\"Price\")\n",
    "plt.title('Relationship between Price and Conditions for Sedan')"
   ]
  },
  {
   "cell_type": "markdown",
   "metadata": {},
   "source": [
    "- There is no relationship between price of the vehicle and the condition of vehicle."
   ]
  },
  {
   "cell_type": "code",
   "execution_count": 291,
   "metadata": {},
   "outputs": [
    {
     "data": {
      "text/plain": [
       "automatic    10529\n",
       "manual         541\n",
       "other          124\n",
       "Name: transmission, dtype: int64"
      ]
     },
     "execution_count": 291,
     "metadata": {},
     "output_type": "execute_result"
    }
   ],
   "source": [
    "sedan_data['transmission'].value_counts()"
   ]
  },
  {
   "cell_type": "code",
   "execution_count": 292,
   "metadata": {},
   "outputs": [
    {
     "data": {
      "text/plain": [
       "Text(0.5, 1.0, 'Relationship between Price and Transmission for Sedan')"
      ]
     },
     "execution_count": 292,
     "metadata": {},
     "output_type": "execute_result"
    },
    {
     "data": {
      "image/png": "[encoded data removed]",
      "text/plain": [
       "<Figure size 432x288 with 1 Axes>"
      ]
     },
     "metadata": {
      "needs_background": "light"
     },
     "output_type": "display_data"
    }
   ],
   "source": [
    "sns.boxplot(x='transmission',y='price', data= sedan_data)\n",
    "plt.xlabel(\"Transmission\")\n",
    "plt.ylabel(\"Price\")\n",
    "plt.title('Relationship between Price and Transmission for Sedan')"
   ]
  },
  {
   "cell_type": "markdown",
   "metadata": {},
   "source": [
    "- Sedans with automatic transmissions are expensive than sedans with manual and other transmissions."
   ]
  },
  {
   "cell_type": "code",
   "execution_count": 293,
   "metadata": {},
   "outputs": [
    {
     "data": {
      "text/plain": [
       "white     3403\n",
       "silver    1903\n",
       "black     1653\n",
       "grey      1495\n",
       "blue      1129\n",
       "red        875\n",
       "custom     270\n",
       "brown      234\n",
       "green      182\n",
       "purple      23\n",
       "yellow      19\n",
       "orange       8\n",
       "Name: paint_color, dtype: int64"
      ]
     },
     "execution_count": 293,
     "metadata": {},
     "output_type": "execute_result"
    }
   ],
   "source": [
    "sedan_data['paint_color'].value_counts()"
   ]
  },
  {
   "cell_type": "code",
   "execution_count": 311,
   "metadata": {},
   "outputs": [
    {
     "data": {
      "image/png": "[encoded data removed]",
      "text/plain": [
       "<Figure size 864x576 with 1 Axes>"
      ]
     },
     "metadata": {
      "needs_background": "light"
     },
     "output_type": "display_data"
    },
    {
     "data": {
      "text/plain": [
       "<Figure size 432x288 with 0 Axes>"
      ]
     },
     "metadata": {},
     "output_type": "display_data"
    }
   ],
   "source": [
    "# Removing purple, yellow and orange from dataset.\n",
    "sedan_data_50 = sedan_data.query('paint_color != \"purple\" and paint_color != \"orange\" and paint_color!=\"yellow\"')\n",
    "plt.figure();\n",
    "fig=plt.gcf()\n",
    "fig.set_size_inches(12,8)\n",
    "sns.boxplot(x='paint_color',y='price', data= sedan_data_50)\n",
    "plt.xlabel(\"Paint_color\")\n",
    "plt.ylabel(\"Price\")\n",
    "plt.title('Relationship between Price and Paint_color for Sedan')\n",
    "plt.show()\n",
    "plt.clf()"
   ]
  },
  {
   "cell_type": "markdown",
   "metadata": {},
   "source": [
    "- Black cars are slightly expensive than other paint colored cars in general. There are still some expections."
   ]
  },
  {
   "cell_type": "markdown",
   "metadata": {},
   "source": [
    "#### Studying the Relationship between Price and other Factors for \"SUV\""
   ]
  },
  {
   "cell_type": "code",
   "execution_count": 312,
   "metadata": {
    "scrolled": true
   },
   "outputs": [
    {
     "data": {
      "text/plain": [
       "Text(0.5, 1.0, 'Relationship between Price and Odometer for SUV')"
      ]
     },
     "execution_count": 312,
     "metadata": {},
     "output_type": "execute_result"
    },
    {
     "data": {
      "image/png": "[encoded data removed]",
      "text/plain": [
       "<Figure size 432x288 with 1 Axes>"
      ]
     },
     "metadata": {
      "needs_background": "light"
     },
     "output_type": "display_data"
    }
   ],
   "source": [
    "#Filtering out only data with SUV\n",
    "SUV_data = data_no_outliers.query('type == \"SUV\"')\n",
    "\n",
    "SUV_data.plot.scatter(x='odometer',y='price',grid=True, color='blue')\n",
    "plt.xlabel(\"Odometer\")\n",
    "plt.ylabel(\"Price\")\n",
    "plt.title('Relationship between Price and Odometer for SUV')"
   ]
  },
  {
   "cell_type": "markdown",
   "metadata": {},
   "source": [
    "- We see as **odometer** or **mileage** goes up, the prices of the vehicles goes down and vice-versa. So,there is negative correlation between price and odometer for **SUV**."
   ]
  },
  {
   "cell_type": "code",
   "execution_count": 313,
   "metadata": {
    "scrolled": true
   },
   "outputs": [
    {
     "data": {
      "text/plain": [
       "Text(0.5, 1.0, 'Relationship between Price and Age for SUV')"
      ]
     },
     "execution_count": 313,
     "metadata": {},
     "output_type": "execute_result"
    },
    {
     "data": {
      "image/png": "[encoded data removed]",
      "text/plain": [
       "<Figure size 432x288 with 1 Axes>"
      ]
     },
     "metadata": {
      "needs_background": "light"
     },
     "output_type": "display_data"
    }
   ],
   "source": [
    "SUV_data.plot.scatter(x='vehicle_age',y='price',grid=True, color='green')\n",
    "plt.xlabel(\"Age\")\n",
    "plt.ylabel(\"Price\")\n",
    "plt.title('Relationship between Price and Age for SUV')"
   ]
  },
  {
   "cell_type": "markdown",
   "metadata": {},
   "source": [
    "- We see as **age** of vehicle increases the **price** of sedan decreases and vice-versa. That means, older the vehicle, cheaper the price. So,there is negative correlation between **price** and **vehicle_age** for **Sedan**."
   ]
  },
  {
   "cell_type": "code",
   "execution_count": 314,
   "metadata": {
    "scrolled": true
   },
   "outputs": [
    {
     "data": {
      "text/plain": [
       "Text(0.5, 1.0, 'Relationship between Price and Conditions for SUV')"
      ]
     },
     "execution_count": 314,
     "metadata": {},
     "output_type": "execute_result"
    },
    {
     "data": {
      "image/png": "[encoded data removed]",
      "text/plain": [
       "<Figure size 432x288 with 1 Axes>"
      ]
     },
     "metadata": {
      "needs_background": "light"
     },
     "output_type": "display_data"
    }
   ],
   "source": [
    "SUV_data.plot.scatter(x='condition',y='price',grid=True, color='red')\n",
    "plt.xlabel(\"Condition\")\n",
    "plt.ylabel(\"Price\")\n",
    "plt.title('Relationship between Price and Conditions for SUV')"
   ]
  },
  {
   "cell_type": "markdown",
   "metadata": {},
   "source": [
    "- There is no replationship between the **Price** and the **Condition** for SUVs."
   ]
  },
  {
   "cell_type": "code",
   "execution_count": 315,
   "metadata": {},
   "outputs": [
    {
     "data": {
      "text/plain": [
       "automatic    10482\n",
       "manual         428\n",
       "other          150\n",
       "Name: transmission, dtype: int64"
      ]
     },
     "execution_count": 315,
     "metadata": {},
     "output_type": "execute_result"
    }
   ],
   "source": [
    "SUV_data['transmission'].value_counts()"
   ]
  },
  {
   "cell_type": "markdown",
   "metadata": {},
   "source": [
    "- I am including all types in whisker-plot as there are more than 50 ads for all transmission types."
   ]
  },
  {
   "cell_type": "code",
   "execution_count": 316,
   "metadata": {},
   "outputs": [
    {
     "data": {
      "text/plain": [
       "Text(0.5, 1.0, 'Relationship between Price and Transmission for SUV')"
      ]
     },
     "execution_count": 316,
     "metadata": {},
     "output_type": "execute_result"
    },
    {
     "data": {
      "image/png": "[encoded data removed]",
      "text/plain": [
       "<Figure size 432x288 with 1 Axes>"
      ]
     },
     "metadata": {
      "needs_background": "light"
     },
     "output_type": "display_data"
    }
   ],
   "source": [
    "sns.boxplot(x='transmission',y='price', data= SUV_data)\n",
    "plt.xlabel(\"Transmission\")\n",
    "plt.ylabel(\"Price\")\n",
    "plt.title('Relationship between Price and Transmission for SUV')"
   ]
  },
  {
   "cell_type": "markdown",
   "metadata": {},
   "source": [
    "- Manual SUVs seem to be slightly expensive than auomatic and other transmission SUVs."
   ]
  },
  {
   "cell_type": "code",
   "execution_count": 317,
   "metadata": {},
   "outputs": [
    {
     "data": {
      "text/plain": [
       "white     3726\n",
       "black     1963\n",
       "silver    1415\n",
       "grey      1072\n",
       "blue       932\n",
       "red        821\n",
       "green      387\n",
       "brown      318\n",
       "custom     279\n",
       "orange      70\n",
       "yellow      40\n",
       "purple      37\n",
       "Name: paint_color, dtype: int64"
      ]
     },
     "execution_count": 317,
     "metadata": {},
     "output_type": "execute_result"
    }
   ],
   "source": [
    "SUV_data['paint_color'].value_counts()"
   ]
  },
  {
   "cell_type": "markdown",
   "metadata": {},
   "source": [
    "- I am excluding purple color SUVs from the plot as they have less than 50 ads listed in webiste."
   ]
  },
  {
   "cell_type": "code",
   "execution_count": 318,
   "metadata": {
    "scrolled": true
   },
   "outputs": [
    {
     "data": {
      "image/png": "[encoded data removed]",
      "text/plain": [
       "<Figure size 864x576 with 1 Axes>"
      ]
     },
     "metadata": {
      "needs_background": "light"
     },
     "output_type": "display_data"
    },
    {
     "data": {
      "text/plain": [
       "<Figure size 432x288 with 0 Axes>"
      ]
     },
     "metadata": {},
     "output_type": "display_data"
    }
   ],
   "source": [
    "# Removing purple from dataset.\n",
    "SUV_data_50 = SUV_data.query('paint_color != \"purple\" and paint_color != \"yellow\"')\n",
    "plt.figure();\n",
    "fig=plt.gcf()\n",
    "fig.set_size_inches(12,8)\n",
    "sns.boxplot(x='paint_color',y='price', data= SUV_data_50)\n",
    "plt.xlabel(\"Paint_color\")\n",
    "plt.ylabel(\"Price\")\n",
    "plt.title('Relationship between Price and Paint_color for SUV')\n",
    "plt.show()\n",
    "plt.clf()"
   ]
  },
  {
   "cell_type": "markdown",
   "metadata": {},
   "source": [
    "- Orange SUVs are expensive than SUVs with other paint colors."
   ]
  },
  {
   "cell_type": "markdown",
   "metadata": {},
   "source": [
    "Studying correlation in tabular format."
   ]
  },
  {
   "cell_type": "code",
   "execution_count": 319,
   "metadata": {},
   "outputs": [
    {
     "name": "stdout",
     "output_type": "stream",
     "text": [
      "Correlation between price and other factors for Sedan\n"
     ]
    },
    {
     "data": {
      "text/html": [
       "<div>\n",
       "<style scoped>\n",
       "    .dataframe tbody tr th:only-of-type {\n",
       "        vertical-align: middle;\n",
       "    }\n",
       "\n",
       "    .dataframe tbody tr th {\n",
       "        vertical-align: top;\n",
       "    }\n",
       "\n",
       "    .dataframe thead th {\n",
       "        text-align: right;\n",
       "    }\n",
       "</style>\n",
       "<table border=\"1\" class=\"dataframe\">\n",
       "  <thead>\n",
       "    <tr style=\"text-align: right;\">\n",
       "      <th></th>\n",
       "      <th>price</th>\n",
       "      <th>odometer</th>\n",
       "      <th>vehicle_age</th>\n",
       "      <th>condition</th>\n",
       "    </tr>\n",
       "  </thead>\n",
       "  <tbody>\n",
       "    <tr>\n",
       "      <th>price</th>\n",
       "      <td>1.000000</td>\n",
       "      <td>-0.563577</td>\n",
       "      <td>-0.638536</td>\n",
       "      <td>0.292334</td>\n",
       "    </tr>\n",
       "    <tr>\n",
       "      <th>odometer</th>\n",
       "      <td>-0.563577</td>\n",
       "      <td>1.000000</td>\n",
       "      <td>0.642169</td>\n",
       "      <td>-0.321832</td>\n",
       "    </tr>\n",
       "    <tr>\n",
       "      <th>vehicle_age</th>\n",
       "      <td>-0.638536</td>\n",
       "      <td>0.642169</td>\n",
       "      <td>1.000000</td>\n",
       "      <td>-0.308047</td>\n",
       "    </tr>\n",
       "    <tr>\n",
       "      <th>condition</th>\n",
       "      <td>0.292334</td>\n",
       "      <td>-0.321832</td>\n",
       "      <td>-0.308047</td>\n",
       "      <td>1.000000</td>\n",
       "    </tr>\n",
       "  </tbody>\n",
       "</table>\n",
       "</div>"
      ],
      "text/plain": [
       "                price  odometer  vehicle_age  condition\n",
       "price        1.000000 -0.563577    -0.638536   0.292334\n",
       "odometer    -0.563577  1.000000     0.642169  -0.321832\n",
       "vehicle_age -0.638536  0.642169     1.000000  -0.308047\n",
       "condition    0.292334 -0.321832    -0.308047   1.000000"
      ]
     },
     "execution_count": 319,
     "metadata": {},
     "output_type": "execute_result"
    }
   ],
   "source": [
    "corr_data1 = sedan_data[['price','odometer','vehicle_age','condition']]\n",
    "print(\"Correlation between price and other factors for Sedan\")\n",
    "corr_data1.corr()"
   ]
  },
  {
   "cell_type": "code",
   "execution_count": 320,
   "metadata": {},
   "outputs": [
    {
     "name": "stdout",
     "output_type": "stream",
     "text": [
      "Correlation between price and other factors for SUV\n"
     ]
    },
    {
     "data": {
      "text/html": [
       "<div>\n",
       "<style scoped>\n",
       "    .dataframe tbody tr th:only-of-type {\n",
       "        vertical-align: middle;\n",
       "    }\n",
       "\n",
       "    .dataframe tbody tr th {\n",
       "        vertical-align: top;\n",
       "    }\n",
       "\n",
       "    .dataframe thead th {\n",
       "        text-align: right;\n",
       "    }\n",
       "</style>\n",
       "<table border=\"1\" class=\"dataframe\">\n",
       "  <thead>\n",
       "    <tr style=\"text-align: right;\">\n",
       "      <th></th>\n",
       "      <th>price</th>\n",
       "      <th>odometer</th>\n",
       "      <th>vehicle_age</th>\n",
       "      <th>condition</th>\n",
       "    </tr>\n",
       "  </thead>\n",
       "  <tbody>\n",
       "    <tr>\n",
       "      <th>price</th>\n",
       "      <td>1.000000</td>\n",
       "      <td>-0.523136</td>\n",
       "      <td>-0.602239</td>\n",
       "      <td>0.260957</td>\n",
       "    </tr>\n",
       "    <tr>\n",
       "      <th>odometer</th>\n",
       "      <td>-0.523136</td>\n",
       "      <td>1.000000</td>\n",
       "      <td>0.648022</td>\n",
       "      <td>-0.320232</td>\n",
       "    </tr>\n",
       "    <tr>\n",
       "      <th>vehicle_age</th>\n",
       "      <td>-0.602239</td>\n",
       "      <td>0.648022</td>\n",
       "      <td>1.000000</td>\n",
       "      <td>-0.319171</td>\n",
       "    </tr>\n",
       "    <tr>\n",
       "      <th>condition</th>\n",
       "      <td>0.260957</td>\n",
       "      <td>-0.320232</td>\n",
       "      <td>-0.319171</td>\n",
       "      <td>1.000000</td>\n",
       "    </tr>\n",
       "  </tbody>\n",
       "</table>\n",
       "</div>"
      ],
      "text/plain": [
       "                price  odometer  vehicle_age  condition\n",
       "price        1.000000 -0.523136    -0.602239   0.260957\n",
       "odometer    -0.523136  1.000000     0.648022  -0.320232\n",
       "vehicle_age -0.602239  0.648022     1.000000  -0.319171\n",
       "condition    0.260957 -0.320232    -0.319171   1.000000"
      ]
     },
     "execution_count": 320,
     "metadata": {},
     "output_type": "execute_result"
    }
   ],
   "source": [
    "corr_data = SUV_data[['price','odometer','vehicle_age','condition']]\n",
    "print(\"Correlation between price and other factors for SUV\")\n",
    "corr_data.corr()"
   ]
  },
  {
   "cell_type": "markdown",
   "metadata": {},
   "source": [
    "We can draw the same conclusion studying the correlation in the table and the graphs above:\n",
    "\n",
    "#### SUV\n",
    "- There is no correlation between price and condition.\n",
    "- There is a negative correlation between price and odometer. That means, as mileage of vehicle increases, price decreases and vice-verca.\n",
    "- There is a negative correlation between vehicle age and price. That means, as car's age increases, the price decreases and vice-verca.\n",
    "- Manual SUVs seem to be slightly expensive than auomatic and other transmission SUVs.\n",
    "- Orange SUVs are expensive than SUVs with other paint colors..\n",
    "\n",
    "\n",
    "#### Sedan\n",
    "- There is no correlation between price and condition.\n",
    "- There is a negative correlation between price and odometer. That means, as mileage of vehicle increases, price decreases and vice-verca.\n",
    "- There is a negative correlation between vehicle age and price. That means, as car's age increases, the price decreases and vice-verca.\n",
    "- Sedans with automatic transmission are expensive than Sedans with manual and other transmissions.\n",
    "- Black sedans are expensive than sedans with other paint colors."
   ]
  },
  {
   "cell_type": "markdown",
   "metadata": {},
   "source": [
    "# Step 5. Overall Conclusion"
   ]
  },
  {
   "cell_type": "markdown",
   "metadata": {},
   "source": [
    "#### Handing Missing Values:\n",
    "1. I filled in missing values in **is_4wd** column with **0** as there are 2 possible values 0 or 1 in boolean datatype.\n",
    "2. I filled in missing values in **paint_color** column with random color generated from among the colors we have in **paint_color** dataset. As paint color is not very important factor in this analysis, filling in random values will not make much affect in our final analysis.\n",
    "3. I filled in missing values in **cylinders** with **Mode** value which is most repeated values. I grouped the cars by models and used most frequent cylinder in each model to fill in missing values.\n",
    "4. I dropped missing values in **model_year** column as there were 7% of missing values assuming that deleting 7% of missing values does not affect our final analysis.\n",
    "5. I will fill in missing values in **odometer** column after calculating **vehicle's age** in next step.\n",
    "\n",
    "#### Converting Datatypes:\n",
    "I converted the datatypes in following columns:\n",
    "\n",
    "- **model_year** and **date_posted** to datetime datatype\n",
    "- **cylinders** into int32\n",
    "- **is_4wd** into Boolean\n",
    "\n",
    "#### Performing calculations and adding new columns to the table and filling in Missing values and Changing datatypes to final dataset\n",
    "1. I added the following columns in the dataset:\n",
    "- Day of the week, month, and year the ad was placed\n",
    "- The vehicle's age (in years) when the ad was placed\n",
    "- The vehicle's average mileage per year\n",
    "2. I filled in missing values in odometer by mean value of odometer grouped by vehicle's age\n",
    "3. In the condition column, I replaceed string values with a numeric scale:\n",
    "- new = 5\n",
    "- like new = 4\n",
    "- excellent = 3\n",
    "- good = 2\n",
    "- fair = 1\n",
    "- salvage = 0\n",
    "4. Finally changed some column's datatypes into appropriate format \n",
    "- **vehicle's age** from float to integer\n",
    "- **odometer** from float to integer\n",
    "- **condition** from float to integer\n",
    "\n",
    "#### Exploratory Data Analysis\n",
    "1. Following were the Upper Limit Outliers:\n",
    "- Upper Limit Outlier for Vehicle's 'Price': 34750.0\n",
    "- Upper Limit Outlier for Vehicle's 'Odometer': 273505.375\n",
    "- Upper Limit Outlier for Vehicle's 'Age': 25.0\n",
    "- Upper Limit Outlier for Vehicle's 'Cylinders': 14.0\n",
    "\n",
    "2. Removed **2848** outliers from the dataset.\n",
    "\n",
    "3. The new histograms with filtered data omiting outliers looked more evenly distributed. For instance,\n",
    "- Price and vehicle age are right_skewed distribution\n",
    "- odometer is comb distribution\n",
    "- condition are normal distribution\n",
    "- cylinders is plateau distribution\n",
    "\n",
    "4. The ads for vehicles were displayed for 39 mean days and 33 median days. We can say that typically ads were on site for a month in average.\n",
    "\n",
    "5. Most listed type and most expensive type of vehicles:\n",
    "- **Bus** (avg price: 17761) and **Truck** (avg price:15098) are the most expensive vehicles listed.\n",
    "\n",
    "- **Sedan** (11194) and **SUV** (11060) are most listed vehicles in the website.\n",
    "- **Bus** are the most expensive and the least listed vehicles.\n",
    "- **Sedan** are the most listed type vehicle.\n",
    "\n",
    "6. Most listed model and most expensice model of vehicles:\n",
    "- **chevrolet silverado 1500 crew** are the most expensive model of vehicles listed.\n",
    "- **ford f-150** are the most listed model of vehicle listed.\n",
    "\n",
    "7. Dependencies of price with other factors for 2 Most popular vehicles Listed\n",
    "\n",
    "#### SUV\n",
    "- There is no correlation between price and condition.\n",
    "- There is a negative correlation between price and odometer. That means, as mileage of vehicle increases, price decreases and vice-verca.\n",
    "- There is a negative correlation between vehicle age and price. That means, as car's age increases, the price decreases and vice-verca.\n",
    "- Manual SUVs seem to be slightly expensive than auomatic and other transmission SUVs.\n",
    "- Orange SUVs are expensive than SUVs with other paint colors..\n",
    "\n",
    "\n",
    "#### Sedan\n",
    "- There is no correlation between price and condition.\n",
    "- There is a negative correlation between price and odometer. That means, as mileage of vehicle increases, price decreases and vice-verca.\n",
    "- There is a negative correlation between vehicle age and price. That means, as car's age increases, the price decreases and vice-verca.\n",
    "- Sedans with automatic transmission are expensive than Sedans with manual and other transmissions.\n",
    "- Black sedans are slightly expensive than sedans with other paint colors."
   ]
  }
 ],
 "metadata": {
  "kernelspec": {
   "display_name": "Python 3",
   "language": "python",
   "name": "python3"
  },
  "language_info": {
   "codemirror_mode": {
    "name": "ipython",
    "version": 3
   },
   "file_extension": ".py",
   "mimetype": "text/x-python",
   "name": "python",
   "nbconvert_exporter": "python",
   "pygments_lexer": "ipython3",
   "version": "3.8.5"
  },
  "toc": {
   "base_numbering": 1,
   "nav_menu": {},
   "number_sections": true,
   "sideBar": true,
   "skip_h1_title": true,
   "title_cell": "Table of Contents",
   "title_sidebar": "Contents",
   "toc_cell": false,
   "toc_position": {},
   "toc_section_display": true,
   "toc_window_display": false
  }
 },
 "nbformat": 4,
 "nbformat_minor": 2
}
